{
 "cells": [
  {
   "cell_type": "markdown",
   "metadata": {},
   "source": [
    "### 1. pd.date_range(), pd.Timestamp()?  \n",
    "### 2. 0.5간격으로 난수 생성하는 방법  \n",
    "### 3. category형을 사용해야 하는 이유?  "
   ]
  },
  {
   "cell_type": "code",
   "execution_count": 1,
   "metadata": {},
   "outputs": [],
   "source": [
    "import numpy as np\n",
    "import pandas as pd\n",
    "from IPython.display import display"
   ]
  },
  {
   "cell_type": "markdown",
   "metadata": {},
   "source": [
    "### 실습 #1. Series 연습\n",
    "1. 10명의 점수를 series로 생성 (점수 범위: 0~100), 인덱스는 1번부터 순차로 부여\n",
    "2. 1번부터 3번까지 추출\n",
    "3. 평균, 최대, 최소값 확인\n",
    "4. 평균보다 작은 점수만 추출\n",
    "5. 점수가 큰순서로 정렬"
   ]
  },
  {
   "cell_type": "code",
   "execution_count": 2,
   "metadata": {},
   "outputs": [
    {
     "name": "stdout",
     "output_type": "stream",
     "text": [
      "1.\n",
      "\n"
     ]
    },
    {
     "data": {
      "text/plain": [
       "'s='"
      ]
     },
     "metadata": {},
     "output_type": "display_data"
    },
    {
     "data": {
      "text/plain": [
       "1     98\n",
       "2     41\n",
       "3     79\n",
       "4     77\n",
       "5     12\n",
       "6     26\n",
       "7      3\n",
       "8      9\n",
       "9     67\n",
       "10    47\n",
       "dtype: int32"
      ]
     },
     "metadata": {},
     "output_type": "display_data"
    },
    {
     "name": "stdout",
     "output_type": "stream",
     "text": [
      "2.\n",
      "\n"
     ]
    },
    {
     "data": {
      "text/plain": [
       "'s[1:4]='"
      ]
     },
     "metadata": {},
     "output_type": "display_data"
    },
    {
     "data": {
      "text/plain": [
       "1    98\n",
       "2    41\n",
       "3    79\n",
       "dtype: int32"
      ]
     },
     "metadata": {},
     "output_type": "display_data"
    },
    {
     "name": "stdout",
     "output_type": "stream",
     "text": [
      "3.\n",
      "\n",
      "s.mean=45.9\n",
      "s.max=98\n",
      "s.min=3\n",
      "4.\n",
      "\n"
     ]
    },
    {
     "data": {
      "text/plain": [
       "'s[s<s.mean()]='"
      ]
     },
     "metadata": {},
     "output_type": "display_data"
    },
    {
     "data": {
      "text/plain": [
       "2    41\n",
       "5    12\n",
       "6    26\n",
       "7     3\n",
       "8     9\n",
       "dtype: int32"
      ]
     },
     "metadata": {},
     "output_type": "display_data"
    },
    {
     "name": "stdout",
     "output_type": "stream",
     "text": [
      "5.\n",
      "\n"
     ]
    },
    {
     "data": {
      "text/plain": [
       "'descending s='"
      ]
     },
     "metadata": {},
     "output_type": "display_data"
    },
    {
     "data": {
      "text/plain": [
       "1     98\n",
       "3     79\n",
       "4     77\n",
       "9     67\n",
       "10    47\n",
       "2     41\n",
       "6     26\n",
       "5     12\n",
       "8      9\n",
       "7      3\n",
       "dtype: int32"
      ]
     },
     "metadata": {},
     "output_type": "display_data"
    }
   ],
   "source": [
    "print(\"1.\\n\")\n",
    "data=np.random.randint(0,101, size=10)\n",
    "s=pd.Series(data, index=[1,2,3,4,5,6,7,8,9,10])\n",
    "display(\"s=\",s)\n",
    "print(\"2.\\n\")\n",
    "display(\"s[1:4]=\",s[0:3])\n",
    "print(\"3.\\n\")\n",
    "print(\"s.mean={}\\ns.max={}\\ns.min={}\".format(s.mean(),s.max(),s.min()))\n",
    "print(\"4.\\n\")\n",
    "display(\"s[s<s.mean()]=\",s[s<s.mean()])\n",
    "print(\"5.\\n\")\n",
    "display(\"descending s=\",s.sort_values(ascending=False))"
   ]
  },
  {
   "cell_type": "markdown",
   "metadata": {},
   "source": [
    "### 실습 #2. 데이터프레임 생성 연습\n",
    "\n",
    "1) 5명의 성적 데이터 생성 (성명, 입학년도, 학점(0~4.5), 성별(M,F))  \n",
    "열 : Name, Adyear, grade, sex    \n",
    "행인덱스 : 순번   \n",
    "2) 인덱스, 칼럼, 값들, 데이터타입 확인  \n",
    "3)통계요약 확인  \n",
    "4)성명순으로 정렬"
   ]
  },
  {
   "cell_type": "code",
   "execution_count": 3,
   "metadata": {},
   "outputs": [
    {
     "name": "stdout",
     "output_type": "stream",
     "text": [
      "1)\n",
      "\n"
     ]
    },
    {
     "data": {
      "text/html": [
       "<div>\n",
       "<style scoped>\n",
       "    .dataframe tbody tr th:only-of-type {\n",
       "        vertical-align: middle;\n",
       "    }\n",
       "\n",
       "    .dataframe tbody tr th {\n",
       "        vertical-align: top;\n",
       "    }\n",
       "\n",
       "    .dataframe thead th {\n",
       "        text-align: right;\n",
       "    }\n",
       "</style>\n",
       "<table border=\"1\" class=\"dataframe\">\n",
       "  <thead>\n",
       "    <tr style=\"text-align: right;\">\n",
       "      <th></th>\n",
       "      <th>Name</th>\n",
       "      <th>Adyear</th>\n",
       "      <th>Grade</th>\n",
       "      <th>Sex</th>\n",
       "    </tr>\n",
       "  </thead>\n",
       "  <tbody>\n",
       "    <tr>\n",
       "      <th>0</th>\n",
       "      <td>Kim</td>\n",
       "      <td>2017</td>\n",
       "      <td>3.5</td>\n",
       "      <td>M</td>\n",
       "    </tr>\n",
       "    <tr>\n",
       "      <th>1</th>\n",
       "      <td>Park</td>\n",
       "      <td>2019</td>\n",
       "      <td>2.5</td>\n",
       "      <td>F</td>\n",
       "    </tr>\n",
       "    <tr>\n",
       "      <th>2</th>\n",
       "      <td>Lee</td>\n",
       "      <td>2016</td>\n",
       "      <td>3.0</td>\n",
       "      <td>F</td>\n",
       "    </tr>\n",
       "    <tr>\n",
       "      <th>3</th>\n",
       "      <td>Choi</td>\n",
       "      <td>2018</td>\n",
       "      <td>4.5</td>\n",
       "      <td>M</td>\n",
       "    </tr>\n",
       "    <tr>\n",
       "      <th>4</th>\n",
       "      <td>Hong</td>\n",
       "      <td>2015</td>\n",
       "      <td>4.0</td>\n",
       "      <td>F</td>\n",
       "    </tr>\n",
       "  </tbody>\n",
       "</table>\n",
       "</div>"
      ],
      "text/plain": [
       "   Name  Adyear  Grade Sex\n",
       "0   Kim    2017    3.5   M\n",
       "1  Park    2019    2.5   F\n",
       "2   Lee    2016    3.0   F\n",
       "3  Choi    2018    4.5   M\n",
       "4  Hong    2015    4.0   F"
      ]
     },
     "metadata": {},
     "output_type": "display_data"
    },
    {
     "name": "stdout",
     "output_type": "stream",
     "text": [
      "2)\n",
      "\n",
      "df.index= RangeIndex(start=0, stop=5, step=1)\n",
      "df.columns= Index(['Name', 'Adyear', 'Grade', 'Sex'], dtype='object')\n",
      "df.values= [['Kim' 2017 3.5 'M']\n",
      " ['Park' 2019 2.5 'F']\n",
      " ['Lee' 2016 3.0 'F']\n",
      " ['Choi' 2018 4.5 'M']\n",
      " ['Hong' 2015 4.0 'F']]\n",
      "df.dtypes= Name      category\n",
      "Adyear       int32\n",
      "Grade      float64\n",
      "Sex       category\n",
      "dtype: object\n",
      "3)\n",
      "\n",
      "df.describe=             Adyear     Grade\n",
      "count     5.000000  5.000000\n",
      "mean   2017.000000  3.500000\n",
      "std       1.581139  0.790569\n",
      "min    2015.000000  2.500000\n",
      "25%    2016.000000  3.000000\n",
      "50%    2017.000000  3.500000\n",
      "75%    2018.000000  4.000000\n",
      "max    2019.000000  4.500000\n",
      "4)\n",
      "\n"
     ]
    },
    {
     "data": {
      "text/html": [
       "<div>\n",
       "<style scoped>\n",
       "    .dataframe tbody tr th:only-of-type {\n",
       "        vertical-align: middle;\n",
       "    }\n",
       "\n",
       "    .dataframe tbody tr th {\n",
       "        vertical-align: top;\n",
       "    }\n",
       "\n",
       "    .dataframe thead th {\n",
       "        text-align: right;\n",
       "    }\n",
       "</style>\n",
       "<table border=\"1\" class=\"dataframe\">\n",
       "  <thead>\n",
       "    <tr style=\"text-align: right;\">\n",
       "      <th></th>\n",
       "      <th>Name</th>\n",
       "      <th>Adyear</th>\n",
       "      <th>Grade</th>\n",
       "      <th>Sex</th>\n",
       "    </tr>\n",
       "  </thead>\n",
       "  <tbody>\n",
       "    <tr>\n",
       "      <th>3</th>\n",
       "      <td>Choi</td>\n",
       "      <td>2018</td>\n",
       "      <td>4.5</td>\n",
       "      <td>M</td>\n",
       "    </tr>\n",
       "    <tr>\n",
       "      <th>4</th>\n",
       "      <td>Hong</td>\n",
       "      <td>2015</td>\n",
       "      <td>4.0</td>\n",
       "      <td>F</td>\n",
       "    </tr>\n",
       "    <tr>\n",
       "      <th>0</th>\n",
       "      <td>Kim</td>\n",
       "      <td>2017</td>\n",
       "      <td>3.5</td>\n",
       "      <td>M</td>\n",
       "    </tr>\n",
       "    <tr>\n",
       "      <th>2</th>\n",
       "      <td>Lee</td>\n",
       "      <td>2016</td>\n",
       "      <td>3.0</td>\n",
       "      <td>F</td>\n",
       "    </tr>\n",
       "    <tr>\n",
       "      <th>1</th>\n",
       "      <td>Park</td>\n",
       "      <td>2019</td>\n",
       "      <td>2.5</td>\n",
       "      <td>F</td>\n",
       "    </tr>\n",
       "  </tbody>\n",
       "</table>\n",
       "</div>"
      ],
      "text/plain": [
       "   Name  Adyear  Grade Sex\n",
       "3  Choi    2018    4.5   M\n",
       "4  Hong    2015    4.0   F\n",
       "0   Kim    2017    3.5   M\n",
       "2   Lee    2016    3.0   F\n",
       "1  Park    2019    2.5   F"
      ]
     },
     "metadata": {},
     "output_type": "display_data"
    }
   ],
   "source": [
    "print(\"1)\\n\")\n",
    "df=pd.DataFrame({'Name':pd.Categorical([\"Kim\",\"Park\",\"Lee\",\"Choi\",\"Hong\"]),\n",
    "               'Adyear':np.array([2017,2019,2016,2018,2015]),\n",
    "               'Grade':pd.Series([3.5, 2.5, 3.0, 4.5, 4.0]),\n",
    "               'Sex':pd.Categorical([\"M\", \"F\", \"F\", \"M\", \"F\"])})\n",
    "display(df)\n",
    "print(\"2)\\n\")\n",
    "print(\"df.index=\",df.index)\n",
    "print(\"df.columns=\",df.columns)\n",
    "print(\"df.values=\",df.values)\n",
    "print(\"df.dtypes=\",df.dtypes)\n",
    "print(\"3)\\n\")\n",
    "print(\"df.describe=\",df.describe())\n",
    "print(\"4)\\n\")\n",
    "display(df.sort_values(by='Name'))"
   ]
  },
  {
   "cell_type": "markdown",
   "metadata": {},
   "source": [
    "### 실습 3. 데이터프레임 인덱싱 연습\n",
    "\n",
    "5명의 성적 데이터 이용   \n",
    "1)성명만 추출  \n",
    "2)입학년도와 성적만 추출  \n",
    "3)성명이 'kim'인 데이터만 추출  \n",
    "4)입학년도가 2018년도 이상만 추출  \n",
    "5)여성만 추출  \n",
    "6)여성이면서 입학년도가 2019년도만 추출\n",
    "7)성적이 3.5이상이거나 남성인 경우 추출"
   ]
  },
  {
   "cell_type": "code",
   "execution_count": 4,
   "metadata": {},
   "outputs": [
    {
     "name": "stdout",
     "output_type": "stream",
     "text": [
      "1)\n",
      "\n"
     ]
    },
    {
     "data": {
      "text/plain": [
       "0     Kim\n",
       "1    Park\n",
       "2     Lee\n",
       "3    Choi\n",
       "4    Hong\n",
       "Name: Name, dtype: category\n",
       "Categories (5, object): [Choi, Hong, Kim, Lee, Park]"
      ]
     },
     "metadata": {},
     "output_type": "display_data"
    },
    {
     "name": "stdout",
     "output_type": "stream",
     "text": [
      "2)\n",
      "\n"
     ]
    },
    {
     "data": {
      "text/html": [
       "<div>\n",
       "<style scoped>\n",
       "    .dataframe tbody tr th:only-of-type {\n",
       "        vertical-align: middle;\n",
       "    }\n",
       "\n",
       "    .dataframe tbody tr th {\n",
       "        vertical-align: top;\n",
       "    }\n",
       "\n",
       "    .dataframe thead th {\n",
       "        text-align: right;\n",
       "    }\n",
       "</style>\n",
       "<table border=\"1\" class=\"dataframe\">\n",
       "  <thead>\n",
       "    <tr style=\"text-align: right;\">\n",
       "      <th></th>\n",
       "      <th>Adyear</th>\n",
       "      <th>Grade</th>\n",
       "    </tr>\n",
       "  </thead>\n",
       "  <tbody>\n",
       "    <tr>\n",
       "      <th>0</th>\n",
       "      <td>2017</td>\n",
       "      <td>3.5</td>\n",
       "    </tr>\n",
       "    <tr>\n",
       "      <th>1</th>\n",
       "      <td>2019</td>\n",
       "      <td>2.5</td>\n",
       "    </tr>\n",
       "    <tr>\n",
       "      <th>2</th>\n",
       "      <td>2016</td>\n",
       "      <td>3.0</td>\n",
       "    </tr>\n",
       "    <tr>\n",
       "      <th>3</th>\n",
       "      <td>2018</td>\n",
       "      <td>4.5</td>\n",
       "    </tr>\n",
       "    <tr>\n",
       "      <th>4</th>\n",
       "      <td>2015</td>\n",
       "      <td>4.0</td>\n",
       "    </tr>\n",
       "  </tbody>\n",
       "</table>\n",
       "</div>"
      ],
      "text/plain": [
       "   Adyear  Grade\n",
       "0    2017    3.5\n",
       "1    2019    2.5\n",
       "2    2016    3.0\n",
       "3    2018    4.5\n",
       "4    2015    4.0"
      ]
     },
     "metadata": {},
     "output_type": "display_data"
    },
    {
     "name": "stdout",
     "output_type": "stream",
     "text": [
      "3)\n",
      "\n"
     ]
    },
    {
     "data": {
      "text/html": [
       "<div>\n",
       "<style scoped>\n",
       "    .dataframe tbody tr th:only-of-type {\n",
       "        vertical-align: middle;\n",
       "    }\n",
       "\n",
       "    .dataframe tbody tr th {\n",
       "        vertical-align: top;\n",
       "    }\n",
       "\n",
       "    .dataframe thead th {\n",
       "        text-align: right;\n",
       "    }\n",
       "</style>\n",
       "<table border=\"1\" class=\"dataframe\">\n",
       "  <thead>\n",
       "    <tr style=\"text-align: right;\">\n",
       "      <th></th>\n",
       "      <th>Name</th>\n",
       "      <th>Adyear</th>\n",
       "      <th>Grade</th>\n",
       "      <th>Sex</th>\n",
       "    </tr>\n",
       "  </thead>\n",
       "  <tbody>\n",
       "    <tr>\n",
       "      <th>0</th>\n",
       "      <td>Kim</td>\n",
       "      <td>2017</td>\n",
       "      <td>3.5</td>\n",
       "      <td>M</td>\n",
       "    </tr>\n",
       "  </tbody>\n",
       "</table>\n",
       "</div>"
      ],
      "text/plain": [
       "  Name  Adyear  Grade Sex\n",
       "0  Kim    2017    3.5   M"
      ]
     },
     "metadata": {},
     "output_type": "display_data"
    },
    {
     "name": "stdout",
     "output_type": "stream",
     "text": [
      "4)\n",
      "\n"
     ]
    },
    {
     "data": {
      "text/html": [
       "<div>\n",
       "<style scoped>\n",
       "    .dataframe tbody tr th:only-of-type {\n",
       "        vertical-align: middle;\n",
       "    }\n",
       "\n",
       "    .dataframe tbody tr th {\n",
       "        vertical-align: top;\n",
       "    }\n",
       "\n",
       "    .dataframe thead th {\n",
       "        text-align: right;\n",
       "    }\n",
       "</style>\n",
       "<table border=\"1\" class=\"dataframe\">\n",
       "  <thead>\n",
       "    <tr style=\"text-align: right;\">\n",
       "      <th></th>\n",
       "      <th>Name</th>\n",
       "      <th>Adyear</th>\n",
       "      <th>Grade</th>\n",
       "      <th>Sex</th>\n",
       "    </tr>\n",
       "  </thead>\n",
       "  <tbody>\n",
       "    <tr>\n",
       "      <th>1</th>\n",
       "      <td>Park</td>\n",
       "      <td>2019</td>\n",
       "      <td>2.5</td>\n",
       "      <td>F</td>\n",
       "    </tr>\n",
       "    <tr>\n",
       "      <th>3</th>\n",
       "      <td>Choi</td>\n",
       "      <td>2018</td>\n",
       "      <td>4.5</td>\n",
       "      <td>M</td>\n",
       "    </tr>\n",
       "  </tbody>\n",
       "</table>\n",
       "</div>"
      ],
      "text/plain": [
       "   Name  Adyear  Grade Sex\n",
       "1  Park    2019    2.5   F\n",
       "3  Choi    2018    4.5   M"
      ]
     },
     "metadata": {},
     "output_type": "display_data"
    },
    {
     "name": "stdout",
     "output_type": "stream",
     "text": [
      "5)\n",
      "\n"
     ]
    },
    {
     "data": {
      "text/html": [
       "<div>\n",
       "<style scoped>\n",
       "    .dataframe tbody tr th:only-of-type {\n",
       "        vertical-align: middle;\n",
       "    }\n",
       "\n",
       "    .dataframe tbody tr th {\n",
       "        vertical-align: top;\n",
       "    }\n",
       "\n",
       "    .dataframe thead th {\n",
       "        text-align: right;\n",
       "    }\n",
       "</style>\n",
       "<table border=\"1\" class=\"dataframe\">\n",
       "  <thead>\n",
       "    <tr style=\"text-align: right;\">\n",
       "      <th></th>\n",
       "      <th>Name</th>\n",
       "      <th>Adyear</th>\n",
       "      <th>Grade</th>\n",
       "      <th>Sex</th>\n",
       "    </tr>\n",
       "  </thead>\n",
       "  <tbody>\n",
       "    <tr>\n",
       "      <th>1</th>\n",
       "      <td>Park</td>\n",
       "      <td>2019</td>\n",
       "      <td>2.5</td>\n",
       "      <td>F</td>\n",
       "    </tr>\n",
       "    <tr>\n",
       "      <th>2</th>\n",
       "      <td>Lee</td>\n",
       "      <td>2016</td>\n",
       "      <td>3.0</td>\n",
       "      <td>F</td>\n",
       "    </tr>\n",
       "    <tr>\n",
       "      <th>4</th>\n",
       "      <td>Hong</td>\n",
       "      <td>2015</td>\n",
       "      <td>4.0</td>\n",
       "      <td>F</td>\n",
       "    </tr>\n",
       "  </tbody>\n",
       "</table>\n",
       "</div>"
      ],
      "text/plain": [
       "   Name  Adyear  Grade Sex\n",
       "1  Park    2019    2.5   F\n",
       "2   Lee    2016    3.0   F\n",
       "4  Hong    2015    4.0   F"
      ]
     },
     "metadata": {},
     "output_type": "display_data"
    },
    {
     "name": "stdout",
     "output_type": "stream",
     "text": [
      "6)\n",
      "\n"
     ]
    },
    {
     "data": {
      "text/html": [
       "<div>\n",
       "<style scoped>\n",
       "    .dataframe tbody tr th:only-of-type {\n",
       "        vertical-align: middle;\n",
       "    }\n",
       "\n",
       "    .dataframe tbody tr th {\n",
       "        vertical-align: top;\n",
       "    }\n",
       "\n",
       "    .dataframe thead th {\n",
       "        text-align: right;\n",
       "    }\n",
       "</style>\n",
       "<table border=\"1\" class=\"dataframe\">\n",
       "  <thead>\n",
       "    <tr style=\"text-align: right;\">\n",
       "      <th></th>\n",
       "      <th>Name</th>\n",
       "      <th>Adyear</th>\n",
       "      <th>Grade</th>\n",
       "      <th>Sex</th>\n",
       "    </tr>\n",
       "  </thead>\n",
       "  <tbody>\n",
       "    <tr>\n",
       "      <th>1</th>\n",
       "      <td>Park</td>\n",
       "      <td>2019</td>\n",
       "      <td>2.5</td>\n",
       "      <td>F</td>\n",
       "    </tr>\n",
       "  </tbody>\n",
       "</table>\n",
       "</div>"
      ],
      "text/plain": [
       "   Name  Adyear  Grade Sex\n",
       "1  Park    2019    2.5   F"
      ]
     },
     "metadata": {},
     "output_type": "display_data"
    },
    {
     "name": "stdout",
     "output_type": "stream",
     "text": [
      "7)\n",
      "\n"
     ]
    },
    {
     "data": {
      "text/html": [
       "<div>\n",
       "<style scoped>\n",
       "    .dataframe tbody tr th:only-of-type {\n",
       "        vertical-align: middle;\n",
       "    }\n",
       "\n",
       "    .dataframe tbody tr th {\n",
       "        vertical-align: top;\n",
       "    }\n",
       "\n",
       "    .dataframe thead th {\n",
       "        text-align: right;\n",
       "    }\n",
       "</style>\n",
       "<table border=\"1\" class=\"dataframe\">\n",
       "  <thead>\n",
       "    <tr style=\"text-align: right;\">\n",
       "      <th></th>\n",
       "      <th>Name</th>\n",
       "      <th>Adyear</th>\n",
       "      <th>Grade</th>\n",
       "      <th>Sex</th>\n",
       "    </tr>\n",
       "  </thead>\n",
       "  <tbody>\n",
       "    <tr>\n",
       "      <th>0</th>\n",
       "      <td>Kim</td>\n",
       "      <td>2017</td>\n",
       "      <td>3.5</td>\n",
       "      <td>M</td>\n",
       "    </tr>\n",
       "    <tr>\n",
       "      <th>3</th>\n",
       "      <td>Choi</td>\n",
       "      <td>2018</td>\n",
       "      <td>4.5</td>\n",
       "      <td>M</td>\n",
       "    </tr>\n",
       "  </tbody>\n",
       "</table>\n",
       "</div>"
      ],
      "text/plain": [
       "   Name  Adyear  Grade Sex\n",
       "0   Kim    2017    3.5   M\n",
       "3  Choi    2018    4.5   M"
      ]
     },
     "metadata": {},
     "output_type": "display_data"
    }
   ],
   "source": [
    "print(\"1)\\n\")\n",
    "display(df['Name'])\n",
    "print(\"2)\\n\")\n",
    "display(df.loc[:,'Adyear':'Grade'])\n",
    "print(\"3)\\n\")\n",
    "grouped=df.groupby('Name')\n",
    "display(grouped.get_group(name='Kim'))\n",
    "print(\"4)\\n\")\n",
    "year=df['Adyear']>=2018\n",
    "display(df[year])\n",
    "print(\"5)\\n\")\n",
    "grouped=df.groupby('Sex')\n",
    "display(grouped.get_group(name='F'))\n",
    "print(\"6)\\n\")\n",
    "tyear=df['Adyear']==2019\n",
    "grouped=df[tyear].groupby('Sex')\n",
    "display(grouped.get_group(name='F'))\n",
    "print(\"7)\\n\")\n",
    "g=df['Grade']>=3.5\n",
    "grouped=df[g].groupby('Sex')\n",
    "display(grouped.get_group(name='M'))"
   ]
  },
  {
   "cell_type": "code",
   "execution_count": null,
   "metadata": {},
   "outputs": [],
   "source": []
  }
 ],
 "metadata": {
  "kernelspec": {
   "display_name": "Python 3",
   "language": "python",
   "name": "python3"
  },
  "language_info": {
   "codemirror_mode": {
    "name": "ipython",
    "version": 3
   },
   "file_extension": ".py",
   "mimetype": "text/x-python",
   "name": "python",
   "nbconvert_exporter": "python",
   "pygments_lexer": "ipython3",
   "version": "3.6.6"
  }
 },
 "nbformat": 4,
 "nbformat_minor": 2
}
