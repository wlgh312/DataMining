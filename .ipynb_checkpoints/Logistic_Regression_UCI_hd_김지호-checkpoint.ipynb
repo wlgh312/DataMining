{
 "cells": [
  {
   "cell_type": "code",
   "execution_count": 1,
   "metadata": {},
   "outputs": [],
   "source": [
    "from sklearn.model_selection import train_test_split\n",
    "import pandas as pd\n",
    "import numpy as np\n",
    "import matplotlib.pyplot as plt\n",
    "import zipfile"
   ]
  },
  {
   "cell_type": "code",
   "execution_count": 2,
   "metadata": {},
   "outputs": [
    {
     "name": "stdout",
     "output_type": "stream",
     "text": [
      "heart-disease-uci.zip: Skipping, found more recently modified local copy (use --force to force download)\n"
     ]
    }
   ],
   "source": [
    "#1)Heart.csv파일 열기\n",
    "!kaggle datasets download -d ronitf/heart-disease-uci\n",
    "zf=zipfile.ZipFile('heart-disease-uci.zip')\n",
    "z=zf.extractall()\n",
    "df=pd.read_csv('heart.csv')"
   ]
  },
  {
   "cell_type": "markdown",
   "metadata": {},
   "source": [
    "1) Heart Disease UCI (Heart.csv) 데이터를 읽어서 30%를 test set으로 분리"
   ]
  },
  {
   "cell_type": "code",
   "execution_count": 3,
   "metadata": {},
   "outputs": [],
   "source": [
    "X = df.iloc[:, 0:13]\n",
    "y = df.target.values\n",
    "X_train, X_test, y_train, y_test = train_test_split(X, y, test_size=0.3, random_state=0)"
   ]
  },
  {
   "cell_type": "markdown",
   "metadata": {},
   "source": [
    "2) 3-NN, Gaussian Naive Bayes, Logistic Regression 분류 알고리즘에 대한 성능 확인"
   ]
  },
  {
   "cell_type": "code",
   "execution_count": 4,
   "metadata": {},
   "outputs": [
    {
     "name": "stdout",
     "output_type": "stream",
     "text": [
      "Train accuracy :  0.7641509433962265\n",
      "Test accuracy :  0.6703296703296703\n"
     ]
    },
    {
     "name": "stderr",
     "output_type": "stream",
     "text": [
      "c:\\users\\wlgh3\\venv\\tensorflow\\lib\\site-packages\\sklearn\\externals\\six.py:31: DeprecationWarning: The module is deprecated in version 0.21 and will be removed in version 0.23 since we've dropped support for Python 2.7. Please rely on the official version of six (https://pypi.org/project/six/).\n",
      "  \"(https://pypi.org/project/six/).\", DeprecationWarning)\n",
      "c:\\users\\wlgh3\\venv\\tensorflow\\lib\\site-packages\\sklearn\\externals\\joblib\\__init__.py:15: DeprecationWarning: sklearn.externals.joblib is deprecated in 0.21 and will be removed in 0.23. Please import this functionality directly from joblib, which can be installed with: pip install joblib. If this warning is raised when loading pickled models, you may need to re-serialize those models with scikit-learn 0.21+.\n",
      "  warnings.warn(msg, category=DeprecationWarning)\n"
     ]
    }
   ],
   "source": [
    "import mglearn\n",
    "from sklearn.neighbors import KNeighborsClassifier\n",
    "clf = KNeighborsClassifier(n_neighbors=3)\n",
    "clf.fit(X_train, y_train)\n",
    "train_accuracy = clf.score(X_train, y_train)\n",
    "test_accuracy = clf.score(X_test, y_test)\n",
    "print(\"Train accuracy : \", train_accuracy)\n",
    "print(\"Test accuracy : \", test_accuracy)"
   ]
  },
  {
   "cell_type": "code",
   "execution_count": 5,
   "metadata": {},
   "outputs": [
    {
     "name": "stdout",
     "output_type": "stream",
     "text": [
      "Train accuracy :  0.8443396226415094\n",
      "Test accuracy :  0.8021978021978022\n"
     ]
    }
   ],
   "source": [
    "from sklearn.naive_bayes import GaussianNB\n",
    "gnb = GaussianNB()\n",
    "gnbfit = gnb.fit(X_train, y_train)\n",
    "train_accuracy = gnbfit.score(X_train, y_train)\n",
    "test_accuracy = gnbfit.score(X_test, y_test)\n",
    "\n",
    "print(\"Train accuracy : \", train_accuracy)\n",
    "print(\"Test accuracy : \", test_accuracy)"
   ]
  },
  {
   "cell_type": "code",
   "execution_count": 6,
   "metadata": {},
   "outputs": [
    {
     "name": "stdout",
     "output_type": "stream",
     "text": [
      "Train accuracy(C=0.01) :  0.8066037735849056\n",
      "Test accuracy(C=0.01) :  0.7802197802197802\n",
      "Train accuracy(C=1) :  0.8632075471698113\n",
      "Test accuracy(C=1) :  0.8021978021978022\n",
      "Train accuracy(C=100) :  0.8679245283018868\n",
      "Test accuracy(C=100) :  0.8131868131868132\n"
     ]
    },
    {
     "name": "stderr",
     "output_type": "stream",
     "text": [
      "c:\\users\\wlgh3\\venv\\tensorflow\\lib\\site-packages\\sklearn\\linear_model\\logistic.py:432: FutureWarning: Default solver will be changed to 'lbfgs' in 0.22. Specify a solver to silence this warning.\n",
      "  FutureWarning)\n",
      "c:\\users\\wlgh3\\venv\\tensorflow\\lib\\site-packages\\sklearn\\linear_model\\logistic.py:432: FutureWarning: Default solver will be changed to 'lbfgs' in 0.22. Specify a solver to silence this warning.\n",
      "  FutureWarning)\n",
      "c:\\users\\wlgh3\\venv\\tensorflow\\lib\\site-packages\\sklearn\\linear_model\\logistic.py:432: FutureWarning: Default solver will be changed to 'lbfgs' in 0.22. Specify a solver to silence this warning.\n",
      "  FutureWarning)\n"
     ]
    }
   ],
   "source": [
    "from sklearn.linear_model import LogisticRegression\n",
    "\n",
    "logrfit01 = LogisticRegression(C=0.01).fit(X_train, y_train)\n",
    "train_accuracy = logrfit01.score(X_train, y_train)\n",
    "test_accuracy = logrfit01.score(X_test, y_test)\n",
    "print(\"Train accuracy(C=0.01) : \", train_accuracy)\n",
    "print(\"Test accuracy(C=0.01) : \", test_accuracy)\n",
    "\n",
    "logrfit = LogisticRegression().fit(X_train, y_train)\n",
    "train_accuracy = logrfit.score(X_train, y_train)\n",
    "test_accuracy = logrfit.score(X_test, y_test)\n",
    "print(\"Train accuracy(C=1) : \", train_accuracy)\n",
    "print(\"Test accuracy(C=1) : \", test_accuracy)\n",
    "\n",
    "logrfit100 = LogisticRegression(C=100).fit(X_train, y_train)\n",
    "train_accuracy = logrfit100.score(X_train, y_train)\n",
    "test_accuracy = logrfit100.score(X_test, y_test)\n",
    "print(\"Train accuracy(C=100) : \", train_accuracy)\n",
    "print(\"Test accuracy(C=100) : \", test_accuracy)"
   ]
  },
  {
   "cell_type": "markdown",
   "metadata": {},
   "source": [
    "3) Logistic Regression 의 특징 계수(coef)에 대한 그래프를 그리기 (강의자료 10쪽 참고)"
   ]
  },
  {
   "cell_type": "code",
   "execution_count": 7,
   "metadata": {},
   "outputs": [
    {
     "data": {
      "text/plain": [
       "<matplotlib.legend.Legend at 0x2644c7d7198>"
      ]
     },
     "execution_count": 7,
     "metadata": {},
     "output_type": "execute_result"
    },
    {
     "data": {
      "image/png": "[encoded data removed]",
      "text/plain": [
       "<Figure size 432x288 with 1 Axes>"
      ]
     },
     "metadata": {
      "needs_background": "light"
     },
     "output_type": "display_data"
    }
   ],
   "source": [
    "plt.plot(logrfit01.coef_.T, 'o', label = 'C=0.01')\n",
    "plt.plot(logrfit.coef_.T, '^', label = 'C=1')\n",
    "plt.plot(logrfit100.coef_.T, 'v', label = 'C=100')\n",
    "plt.xticks(range(df.iloc[:, 0:13].shape[1]), df.columns, rotation=90)\n",
    "xlims = plt.xlim()\n",
    "plt.hlines(0, xlims[0], xlims[1])\n",
    "plt.xlim(xlims)\n",
    "plt.ylim(-2.5, 2.5)\n",
    "plt.xlabel('features')\n",
    "plt.ylabel('coef')\n",
    "plt.legend()"
   ]
  },
  {
   "cell_type": "code",
   "execution_count": null,
   "metadata": {},
   "outputs": [],
   "source": []
  }
 ],
 "metadata": {
  "kernelspec": {
   "display_name": "Python 3",
   "language": "python",
   "name": "python3"
  },
  "language_info": {
   "codemirror_mode": {
    "name": "ipython",
    "version": 3
   },
   "file_extension": ".py",
   "mimetype": "text/x-python",
   "name": "python",
   "nbconvert_exporter": "python",
   "pygments_lexer": "ipython3",
   "version": "3.6.6"
  }
 },
 "nbformat": 4,
 "nbformat_minor": 2
}
