{
 "cells": [
  {
   "cell_type": "markdown",
   "metadata": {},
   "source": [
    "### 1. 지도 학습?(Supervised Learning)과 비 지도 학습(Unsupervised Learning)을 비교하여 설명하세요."
   ]
  },
  {
   "cell_type": "markdown",
   "metadata": {},
   "source": [
    "* #### 지도학습(Supervised Learning)  \n",
    "훈련 데이터(Training Data)로부터 하나의 함수(model)를 유추하는 방법  \n",
    " -label이 있는 데이터로 학습  \n",
    " -훈련 데이터로부터 각 label에 대한 features(벡터 형태)를 학습하여 model 생성  \n",
    "ex)예측(Prediction, Regression), 분류(Classification)\n",
    "\n",
    "* #### 비지도학습(Unsupervised Learning)  \n",
    "출력 값이 없는 입력 데이터 끼리의 관계를 분석하여 의미있는 정보를 추출하는 방법  \n",
    " -label없이 데이터를 보고 스스로 학습  \n",
    " -데이터의 features만 보고 어떻게 구성되어있는지 분석  \n",
    "ex)군집(Clustering), 차원 축소(Dimensionality reduction), 연관규칙(Association Rule)\n",
    "<img src=\"http://image.dongascience.com/Photo/2018/11/46942eede8c96e10bcbaf8df3b10152f.png\">"
   ]
  },
  {
   "cell_type": "markdown",
   "metadata": {},
   "source": [
    "### 2. 과적합(Overfitting)을 설명하세요."
   ]
  },
  {
   "cell_type": "markdown",
   "metadata": {},
   "source": [
    "* 훈련데이터에 최적으로 학습되어 새로운 샘플에 대해 정확한 예측을 못하는 현상  \n",
    " -model이 training set에 너무 정확하게 맞춰져 있음\n",
    "* 너무 많은 특징을 사용하여 모델이 복잡해진 경우  \n",
    " -주어진 데이터 양에 비해 모델의 complexity가 높으면 발생  \n",
    "  \n",
    "=>training dataset에 대한 예측 결과값이 좋아서 training이 매우 잘 되었다고 생각하기 쉽다. 하지만 test dataset에 대한 예측 결과값은 매우 좋지않다.\n",
    "<img src=\"https://media.geeksforgeeks.org/wp-content/cdn-uploads/20190523171258/overfitting_2.png\">"
   ]
  },
  {
   "cell_type": "markdown",
   "metadata": {},
   "source": [
    "### 3. 특징공간(feature space)에 대하여 설명하세요."
   ]
  },
  {
   "cell_type": "markdown",
   "metadata": {},
   "source": [
    "features(관측 값들)가 있는 공간을 뜻한다.  \n",
    " -특징 공간은 여러 차원으로 구성 될 수 있다.  \n",
    " -특징 변수의 개수가 특징 공간의 차원 수이다.  \n",
    " -고차원으로 갈수록 전체 공간에서 데이터가 차지하는 공간이 매우 미비해지기 때문에 예측을 위해 훨씬 많은 작업이 필요하고, 저차원일 때보다 예측이 불안정하다.  \n",
    "ex)선형회귀모델의 데이터-1차원 특징공간, 비만율(몸무게, 키)-2차원 특징공간\n",
    "<img src=\"https://ds055uzetaobb.cloudfront.net/brioche/uploads/JERsKXkW4T-screen-shot-2016-05-05-at-123118-pm.png?width=2400\">"
   ]
  },
  {
   "cell_type": "markdown",
   "metadata": {},
   "source": [
    "##### 참고 사이트  \n",
    " - https://hunkim.github.io/ml/\n",
    " - https://m.blog.naver.com/PostView.nhn?blogId=qbxlvnf11&logNo=221323034856&proxyReferer=https:%2F%2Fwww.google.com%2F"
   ]
  },
  {
   "cell_type": "code",
   "execution_count": null,
   "metadata": {},
   "outputs": [],
   "source": []
  }
 ],
 "metadata": {
  "kernelspec": {
   "display_name": "Python 3",
   "language": "python",
   "name": "python3"
  },
  "language_info": {
   "codemirror_mode": {
    "name": "ipython",
    "version": 3
   },
   "file_extension": ".py",
   "mimetype": "text/x-python",
   "name": "python",
   "nbconvert_exporter": "python",
   "pygments_lexer": "ipython3",
   "version": "3.6.6"
  }
 },
 "nbformat": 4,
 "nbformat_minor": 2
}
