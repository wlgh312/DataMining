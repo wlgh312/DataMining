{
 "cells": [
  {
   "cell_type": "markdown",
   "metadata": {},
   "source": [
    "1) Multiple-Layer Perceptron 예 (강의자료 12,13,14 쪽)"
   ]
  },
  {
   "cell_type": "code",
   "execution_count": 12,
   "metadata": {},
   "outputs": [
    {
     "name": "stdout",
     "output_type": "stream",
     "text": [
      "[1 0]\n",
      "[(2, 5), (5, 2), (2, 1)]\n",
      "[[0.39471358 0.60528642]\n",
      " [0.39471358 0.60528642]]\n"
     ]
    },
    {
     "name": "stderr",
     "output_type": "stream",
     "text": [
      "c:\\users\\wlgh3\\venv\\tensorflow\\lib\\site-packages\\sklearn\\neural_network\\multilayer_perceptron.py:564: ConvergenceWarning: Stochastic Optimizer: Maximum iterations (200) reached and the optimization hasn't converged yet.\n",
      "  % self.max_iter, ConvergenceWarning)\n"
     ]
    }
   ],
   "source": [
    "#MLPClassifier는 Backpropagation을 사용하여 학습하는 Multi-Layer Perceptron 알고리즘을 구현\n",
    "from sklearn.neural_network import MLPClassifier\n",
    "#Training data\n",
    "X = [[0., 0.], [1., 1.]]\n",
    "y = [0, 1]\n",
    "#MLPClassifier(alpha=1e-5, hidden_layer_sizes=(5, 2), random_state=1, solver='sgd')\n",
    "#alpha : 가중치의 크기를 제한하여 과적합을 정규화 함. 작을수록 가중치가 커져 복잡한 결정경계\n",
    "#solver : weight optimization algorithm(sgd:stochastic gradient descent)\n",
    "#learning_rate_init : default=0.001\n",
    "#max_iter : default=200\n",
    "#random_layer_sizes : 5 neurons, 2 layers\n",
    "clf = MLPClassifier(solver='sgd', alpha=1e-5, hidden_layer_sizes=(5, 2), random_state=1)\n",
    "\n",
    "#Training\n",
    "clf.fit(X, y)\n",
    "\n",
    "#predict labels for new samples\n",
    "y_pred = clf.predict([[2., 2.], [-1., -2]])\n",
    "print(y_pred)\n",
    "#clf.coefs_로 최적의 weight 확인\n",
    "print([coef.shape for coef in clf.coefs_])\n",
    "\n",
    "#probability 확인\n",
    "#Backpropagation을 사용하여 gradient를 구하고 gradient descent를 사용하여 학습\n",
    "#classification을 위하여 주어진 샘플의 확률벡터를 구하여 Cross-Entropy loss function을 최소화\n",
    "y_prob = clf.predict_proba([[2., 2.], [1., 2.]])\n",
    "print(y_prob)"
   ]
  },
  {
   "cell_type": "code",
   "execution_count": 13,
   "metadata": {},
   "outputs": [
    {
     "name": "stdout",
     "output_type": "stream",
     "text": [
      "iris 데이터의 형태 :  (150, 4)\n",
      "iris 특징 이름 : \n",
      " ['sepal length (cm)', 'sepal width (cm)', 'petal length (cm)', 'petal width (cm)']\n",
      "iris 데이터 설명 : \n",
      " Iris Plants Database\n",
      "====================\n",
      "\n",
      "Notes\n",
      "-----\n",
      "Data Set Characteristics:\n",
      "    :Number of Instances: 150 (50 in each of three classes)\n",
      "    :Number of Attributes: 4 numeric, predictive attributes and the class\n",
      "    :Attribute Information:\n",
      "        - sepal length in cm\n",
      "        - sepal width in cm\n",
      "        - petal length in cm\n",
      "        - petal width in cm\n",
      "        - class:\n",
      "                - Iris-Setosa\n",
      "                - Iris-Versicolour\n",
      "                - Iris-Virginica\n",
      "    :Summary Statistics:\n",
      "\n",
      "    ============== ==== ==== ======= ===== ====================\n",
      "                    Min  Max   Mean    SD   Class Correlation\n",
      "    ============== ==== ==== ======= ===== ====================\n",
      "    sepal length:   4.3  7.9   5.84   0.83    0.7826\n",
      "    sepal width:    2.0  4.4   3.05   0.43   -0.4194\n",
      "    petal length:   1.0  6.9   3.76   1.76    0.9490  (high!)\n",
      "    petal width:    0.1  2.5   1.20  0.76     0.9565  (high!)\n",
      "    ============== ==== ==== ======= ===== ====================\n",
      "\n",
      "    :Missing Attribute Values: None\n",
      "    :Class Distribution: 33.3% for each of 3 classes.\n",
      "    :Creator: R.A. Fisher\n",
      "    :Donor: Michael Marshall (MARSHALL%PLU@io.arc.nasa.gov)\n",
      "    :Date: July, 1988\n",
      "\n",
      "This is a copy of UCI ML iris datasets.\n",
      "http://archive.ics.uci.edu/ml/datasets/Iris\n",
      "\n",
      "The famous Iris database, first used by Sir R.A Fisher\n",
      "\n",
      "This is perhaps the best known database to be found in the\n",
      "pattern recognition literature.  Fisher's paper is a classic in the field and\n",
      "is referenced frequently to this day.  (See Duda & Hart, for example.)  The\n",
      "data set contains 3 classes of 50 instances each, where each class refers to a\n",
      "type of iris plant.  One class is linearly separable from the other 2; the\n",
      "latter are NOT linearly separable from each other.\n",
      "\n",
      "References\n",
      "----------\n",
      "   - Fisher,R.A. \"The use of multiple measurements in taxonomic problems\"\n",
      "     Annual Eugenics, 7, Part II, 179-188 (1936); also in \"Contributions to\n",
      "     Mathematical Statistics\" (John Wiley, NY, 1950).\n",
      "   - Duda,R.O., & Hart,P.E. (1973) Pattern Classification and Scene Analysis.\n",
      "     (Q327.D83) John Wiley & Sons.  ISBN 0-471-22361-1.  See page 218.\n",
      "   - Dasarathy, B.V. (1980) \"Nosing Around the Neighborhood: A New System\n",
      "     Structure and Classification Rule for Recognition in Partially Exposed\n",
      "     Environments\".  IEEE Transactions on Pattern Analysis and Machine\n",
      "     Intelligence, Vol. PAMI-2, No. 1, 67-71.\n",
      "   - Gates, G.W. (1972) \"The Reduced Nearest Neighbor Rule\".  IEEE Transactions\n",
      "     on Information Theory, May 1972, 431-433.\n",
      "   - See also: 1988 MLC Proceedings, 54-64.  Cheeseman et al\"s AUTOCLASS II\n",
      "     conceptual clustering system finds 3 classes in the data.\n",
      "   - Many, many more ...\n",
      "\n",
      "테스트 세트에 대한 예측값 : \n",
      "[1 0 2 1 1 0 1 2 1 1 2 0 0 0 0 1 2 1 1 2 0 2 0 2 2 2 2 2 0 0 0 0 1 0 0 2 1\n",
      " 0 0 0 2 1 1 0 0 1 1 2 1 2]\n",
      "테스트 세트의 정확도 : 0.98\n",
      "테스트 세트의 정확도 : 0.98\n"
     ]
    }
   ],
   "source": [
    "import sklearn.datasets as ds\n",
    "from sklearn.model_selection import train_test_split\n",
    "import numpy as np\n",
    "#iris dataset load\n",
    "iris = ds.load_iris()\n",
    "\n",
    "print(\"iris 데이터의 형태 : \", iris.data.shape)\n",
    "print(\"iris 특징 이름 : \\n\", iris.feature_names)\n",
    "print(\"iris 데이터 설명 : \\n\", iris.DESCR)\n",
    "\n",
    "#inpust X, output y\n",
    "X = iris.data\n",
    "y = iris.target\n",
    "\n",
    "#train dataset & test dataset\n",
    "X_train, X_test, y_train, y_test = train_test_split(X, y, test_size = 0.33, random_state=42)\n",
    "\n",
    "MLP = MLPClassifier(solver = 'lbfgs', alpha=0.05, random_state=1, early_stopping=True, hidden_layer_sizes=[20, 2])\n",
    "MLPfit = MLP.fit(X_train, y_train)\n",
    "y_pred = MLPfit.predict(X_test)\n",
    "\n",
    "print(\"테스트 세트에 대한 예측값 : \\n{}\".format(y_pred))\n",
    "print(\"테스트 세트의 정확도 : {:.2f}\".format(np.mean(y_pred == y_test)))\n",
    "print(\"테스트 세트의 정확도 : {:.2f}\".format(MLPfit.score(X_test, y_test)))"
   ]
  },
  {
   "cell_type": "code",
   "execution_count": null,
   "metadata": {},
   "outputs": [],
   "source": []
  }
 ],
 "metadata": {
  "kernelspec": {
   "display_name": "Python 3",
   "language": "python",
   "name": "python3"
  },
  "language_info": {
   "codemirror_mode": {
    "name": "ipython",
    "version": 3
   },
   "file_extension": ".py",
   "mimetype": "text/x-python",
   "name": "python",
   "nbconvert_exporter": "python",
   "pygments_lexer": "ipython3",
   "version": "3.6.6"
  }
 },
 "nbformat": 4,
 "nbformat_minor": 2
}
