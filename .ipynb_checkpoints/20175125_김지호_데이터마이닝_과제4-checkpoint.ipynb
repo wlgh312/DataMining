{
 "cells": [
  {
   "cell_type": "markdown",
   "metadata": {},
   "source": [
    "1. 문제와 본인성명은 마크다운으로 작성\n",
    "## <문제>\n",
    "## 10명의 키와 몸무게를 리스트에 저장하여 BMI(Body Mass Index) 체질량지수를 계산하고 비만여부를 측정하는 파이썬 프로그램을 쥬피터노트북 환경에서 작성하여 *.ipynb 파일 제출\n",
    "### 김지호"
   ]
  },
  {
   "cell_type": "code",
   "execution_count": 1,
   "metadata": {},
   "outputs": [],
   "source": [
    "height = [1.85, 1.55, 1.77, 1.6, 1.92, 1.67, 1.58, 1.74, 1.52, 1.63]\n",
    "weight = [70, 65, 85, 45, 100, 68, 77, 74, 75, 120]"
   ]
  },
  {
   "cell_type": "markdown",
   "metadata": {},
   "source": [
    "2. 최대값, 평균을 계산하는 함수 정의"
   ]
  },
  {
   "cell_type": "code",
   "execution_count": 2,
   "metadata": {},
   "outputs": [],
   "source": [
    "def max(hw):\n",
    "    a=0\n",
    "    for i in range(10):\n",
    "        if hw[i]>a:\n",
    "            a=hw[i]\n",
    "    return a\n",
    "\n",
    "def ave(hw):\n",
    "    sum=0\n",
    "    for i in range(10):\n",
    "        sum=sum+hw[i]\n",
    "    mean=sum/10\n",
    "    return float(mean)"
   ]
  },
  {
   "cell_type": "markdown",
   "metadata": {},
   "source": [
    "3. BMI = 몸무게(kg) / 키(m)의 제곱"
   ]
  },
  {
   "cell_type": "code",
   "execution_count": 3,
   "metadata": {},
   "outputs": [],
   "source": [
    "BMI=[]\n",
    "for i in range(10):\n",
    "    BMI.append(round(weight[i]/(height[i]**2)))"
   ]
  },
  {
   "cell_type": "markdown",
   "metadata": {},
   "source": [
    "4. BMI 30이상 비만, 30-25 과체중, 25미만 표준"
   ]
  },
  {
   "cell_type": "code",
   "execution_count": 4,
   "metadata": {},
   "outputs": [],
   "source": [
    "res=[]\n",
    "for i in range(10):\n",
    "    if BMI[i]>=30:\n",
    "        res.append('비만')\n",
    "    elif BMI[i]<30 and BMI[i]>=25:\n",
    "        res.append('과체중')\n",
    "    elif BMI[i]<25:\n",
    "        res.append('표준')"
   ]
  },
  {
   "cell_type": "markdown",
   "metadata": {},
   "source": [
    "## <출력>"
   ]
  },
  {
   "cell_type": "code",
   "execution_count": 5,
   "metadata": {},
   "outputs": [
    {
     "name": "stdout",
     "output_type": "stream",
     "text": [
      "키=[1.85, 1.55, 1.77, 1.6, 1.92, 1.67, 1.58, 1.74, 1.52, 1.63]\n",
      "max=1.92 average=1.68\n"
     ]
    }
   ],
   "source": [
    "print(\"키={}\".format(height))\n",
    "print('max=%.2f average=%.2f'%(max(height),ave(height)))"
   ]
  },
  {
   "cell_type": "code",
   "execution_count": 6,
   "metadata": {},
   "outputs": [
    {
     "name": "stdout",
     "output_type": "stream",
     "text": [
      "몸무게=[70, 65, 85, 45, 100, 68, 77, 74, 75, 120]\n",
      "max=120.00 average=77.90\n"
     ]
    }
   ],
   "source": [
    "print(\"몸무게={}\".format(weight))\n",
    "print('max=%.2f average=%.2f'%(max(weight),ave(weight)))"
   ]
  },
  {
   "cell_type": "code",
   "execution_count": 7,
   "metadata": {},
   "outputs": [
    {
     "name": "stdout",
     "output_type": "stream",
     "text": [
      "BMI=[20, 27, 27, 18, 27, 24, 31, 24, 32, 45]\n",
      "결과=['표준', '과체중', '과체중', '표준', '과체중', '표준', '비만', '표준', '비만', '비만']\n"
     ]
    }
   ],
   "source": [
    "print(\"BMI={}\".format(BMI))\n",
    "print(\"결과={}\".format(res))"
   ]
  },
  {
   "cell_type": "code",
   "execution_count": null,
   "metadata": {},
   "outputs": [],
   "source": []
  }
 ],
 "metadata": {
  "kernelspec": {
   "display_name": "Python 3",
   "language": "python",
   "name": "python3"
  },
  "language_info": {
   "codemirror_mode": {
    "name": "ipython",
    "version": 3
   },
   "file_extension": ".py",
   "mimetype": "text/x-python",
   "name": "python",
   "nbconvert_exporter": "python",
   "pygments_lexer": "ipython3",
   "version": "3.6.6"
  }
 },
 "nbformat": 4,
 "nbformat_minor": 2
}
