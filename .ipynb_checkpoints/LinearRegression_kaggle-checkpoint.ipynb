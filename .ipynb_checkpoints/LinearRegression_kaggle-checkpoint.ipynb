{
 "cells": [
  {
   "cell_type": "markdown",
   "metadata": {},
   "source": [
    "## Chicago 보건 통계 데이터\n",
    "- 실업률 예측"
   ]
  },
  {
   "cell_type": "code",
   "execution_count": 2,
   "metadata": {},
   "outputs": [],
   "source": [
    "# This Python 3 environment comes with many helpful analytics libraries installed\n",
    "# It is defined by the kaggle/python docker image: https://github.com/kaggle/docker-python\n",
    "# For example, here's several helpful packages to load in \n",
    "\n",
    "import numpy as np # linear algebra\n",
    "import pandas as pd # data processing, CSV file I/O (e.g. pd.read_csv)"
   ]
  },
  {
   "cell_type": "code",
   "execution_count": 4,
   "metadata": {},
   "outputs": [
    {
     "name": "stdout",
     "output_type": "stream",
     "text": [
      "Collecting statsmodels\n",
      "  Downloading statsmodels-0.11.1-cp36-none-win_amd64.whl (8.2 MB)\n",
      "Requirement already satisfied: scipy>=1.0 in c:\\users\\wlgh3\\venv\\tensorflow\\lib\\site-packages (from statsmodels) (1.1.0)\n",
      "Collecting patsy>=0.5\n",
      "  Downloading patsy-0.5.1-py2.py3-none-any.whl (231 kB)\n",
      "Requirement already satisfied: numpy>=1.14 in c:\\users\\wlgh3\\venv\\tensorflow\\lib\\site-packages (from statsmodels) (1.14.5)\n",
      "Requirement already satisfied: pandas>=0.21 in c:\\users\\wlgh3\\venv\\tensorflow\\lib\\site-packages (from statsmodels) (1.0.3)\n",
      "Requirement already satisfied: six in c:\\users\\wlgh3\\venv\\tensorflow\\lib\\site-packages (from patsy>=0.5->statsmodels) (1.11.0)\n",
      "Requirement already satisfied: pytz>=2017.2 in c:\\users\\wlgh3\\venv\\tensorflow\\lib\\site-packages (from pandas>=0.21->statsmodels) (2018.5)\n",
      "Requirement already satisfied: python-dateutil>=2.6.1 in c:\\users\\wlgh3\\venv\\tensorflow\\lib\\site-packages (from pandas>=0.21->statsmodels) (2.7.3)\n",
      "Installing collected packages: patsy, statsmodels\n",
      "Successfully installed patsy-0.5.1 statsmodels-0.11.1\n"
     ]
    },
    {
     "name": "stderr",
     "output_type": "stream",
     "text": [
      "WARNING: You are using pip version 20.0.2; however, version 20.1 is available.\n",
      "You should consider upgrading via the 'c:\\users\\wlgh3\\venv\\tensorflow\\scripts\\python.exe -m pip install --upgrade pip' command.\n"
     ]
    }
   ],
   "source": [
    "#!pip install statsmodels"
   ]
  },
  {
   "cell_type": "code",
   "execution_count": 5,
   "metadata": {},
   "outputs": [],
   "source": [
    "import matplotlib.pyplot as plt\n",
    "import pandas as pd\n",
    "import numpy as np\n",
    "import seaborn as sns\n",
    "\n",
    "\n",
    "\n",
    "from sklearn.model_selection import train_test_split\n",
    "from sklearn.linear_model import LinearRegression\n",
    "from sklearn.metrics import mean_squared_error\n",
    "\n",
    "from statsmodels.api import OLS#최소자승법 회귀분석"
   ]
  },
  {
   "cell_type": "code",
   "execution_count": 18,
   "metadata": {},
   "outputs": [
    {
     "data": {
      "text/html": [
       "<div>\n",
       "<style scoped>\n",
       "    .dataframe tbody tr th:only-of-type {\n",
       "        vertical-align: middle;\n",
       "    }\n",
       "\n",
       "    .dataframe tbody tr th {\n",
       "        vertical-align: top;\n",
       "    }\n",
       "\n",
       "    .dataframe thead th {\n",
       "        text-align: right;\n",
       "    }\n",
       "</style>\n",
       "<table border=\"1\" class=\"dataframe\">\n",
       "  <thead>\n",
       "    <tr style=\"text-align: right;\">\n",
       "      <th></th>\n",
       "      <th>Community Area</th>\n",
       "      <th>Community Area Name</th>\n",
       "      <th>Birth Rate</th>\n",
       "      <th>General Fertility Rate</th>\n",
       "      <th>Low Birth Weight</th>\n",
       "      <th>Prenatal Care Beginning in First Trimester</th>\n",
       "      <th>Preterm Births</th>\n",
       "      <th>Teen Birth Rate</th>\n",
       "      <th>Assault (Homicide)</th>\n",
       "      <th>Breast cancer in females</th>\n",
       "      <th>...</th>\n",
       "      <th>Childhood Lead Poisoning</th>\n",
       "      <th>Gonorrhea in Females</th>\n",
       "      <th>Gonorrhea in Males</th>\n",
       "      <th>Tuberculosis</th>\n",
       "      <th>Below Poverty Level</th>\n",
       "      <th>Crowded Housing</th>\n",
       "      <th>Dependency</th>\n",
       "      <th>No High School Diploma</th>\n",
       "      <th>Per Capita Income</th>\n",
       "      <th>Unemployment</th>\n",
       "    </tr>\n",
       "  </thead>\n",
       "  <tbody>\n",
       "    <tr>\n",
       "      <th>0</th>\n",
       "      <td>1</td>\n",
       "      <td>Rogers Park</td>\n",
       "      <td>16.4</td>\n",
       "      <td>62.0</td>\n",
       "      <td>11.0</td>\n",
       "      <td>73.0</td>\n",
       "      <td>11.2</td>\n",
       "      <td>40.8</td>\n",
       "      <td>7.7</td>\n",
       "      <td>23.3</td>\n",
       "      <td>...</td>\n",
       "      <td>0.5</td>\n",
       "      <td>322.5</td>\n",
       "      <td>423.3</td>\n",
       "      <td>11.4</td>\n",
       "      <td>22.7</td>\n",
       "      <td>7.9</td>\n",
       "      <td>28.8</td>\n",
       "      <td>18.1</td>\n",
       "      <td>23714</td>\n",
       "      <td>7.5</td>\n",
       "    </tr>\n",
       "    <tr>\n",
       "      <th>1</th>\n",
       "      <td>2</td>\n",
       "      <td>West Ridge</td>\n",
       "      <td>17.3</td>\n",
       "      <td>83.3</td>\n",
       "      <td>8.1</td>\n",
       "      <td>71.1</td>\n",
       "      <td>8.3</td>\n",
       "      <td>29.9</td>\n",
       "      <td>5.8</td>\n",
       "      <td>20.2</td>\n",
       "      <td>...</td>\n",
       "      <td>1.0</td>\n",
       "      <td>141.0</td>\n",
       "      <td>205.7</td>\n",
       "      <td>8.9</td>\n",
       "      <td>15.1</td>\n",
       "      <td>7.0</td>\n",
       "      <td>38.3</td>\n",
       "      <td>19.6</td>\n",
       "      <td>21375</td>\n",
       "      <td>7.9</td>\n",
       "    </tr>\n",
       "    <tr>\n",
       "      <th>2</th>\n",
       "      <td>3</td>\n",
       "      <td>Uptown</td>\n",
       "      <td>13.1</td>\n",
       "      <td>50.5</td>\n",
       "      <td>8.3</td>\n",
       "      <td>77.7</td>\n",
       "      <td>10.3</td>\n",
       "      <td>35.1</td>\n",
       "      <td>5.4</td>\n",
       "      <td>21.3</td>\n",
       "      <td>...</td>\n",
       "      <td>0.5</td>\n",
       "      <td>170.8</td>\n",
       "      <td>468.7</td>\n",
       "      <td>13.6</td>\n",
       "      <td>22.7</td>\n",
       "      <td>4.6</td>\n",
       "      <td>22.2</td>\n",
       "      <td>13.6</td>\n",
       "      <td>32355</td>\n",
       "      <td>7.7</td>\n",
       "    </tr>\n",
       "    <tr>\n",
       "      <th>3</th>\n",
       "      <td>4</td>\n",
       "      <td>Lincoln Square</td>\n",
       "      <td>17.1</td>\n",
       "      <td>61.0</td>\n",
       "      <td>8.1</td>\n",
       "      <td>80.5</td>\n",
       "      <td>9.7</td>\n",
       "      <td>38.4</td>\n",
       "      <td>5.0</td>\n",
       "      <td>21.7</td>\n",
       "      <td>...</td>\n",
       "      <td>0.4</td>\n",
       "      <td>98.8</td>\n",
       "      <td>195.5</td>\n",
       "      <td>8.5</td>\n",
       "      <td>9.5</td>\n",
       "      <td>3.1</td>\n",
       "      <td>25.6</td>\n",
       "      <td>12.5</td>\n",
       "      <td>35503</td>\n",
       "      <td>6.8</td>\n",
       "    </tr>\n",
       "    <tr>\n",
       "      <th>4</th>\n",
       "      <td>5</td>\n",
       "      <td>North Center</td>\n",
       "      <td>22.4</td>\n",
       "      <td>76.2</td>\n",
       "      <td>9.1</td>\n",
       "      <td>80.4</td>\n",
       "      <td>9.8</td>\n",
       "      <td>8.4</td>\n",
       "      <td>1.0</td>\n",
       "      <td>16.6</td>\n",
       "      <td>...</td>\n",
       "      <td>0.9</td>\n",
       "      <td>85.4</td>\n",
       "      <td>188.6</td>\n",
       "      <td>1.9</td>\n",
       "      <td>7.1</td>\n",
       "      <td>0.2</td>\n",
       "      <td>25.5</td>\n",
       "      <td>5.4</td>\n",
       "      <td>51615</td>\n",
       "      <td>4.5</td>\n",
       "    </tr>\n",
       "  </tbody>\n",
       "</table>\n",
       "<p>5 rows × 29 columns</p>\n",
       "</div>"
      ],
      "text/plain": [
       "   Community Area Community Area Name  Birth Rate  General Fertility Rate  \\\n",
       "0               1         Rogers Park        16.4                    62.0   \n",
       "1               2          West Ridge        17.3                    83.3   \n",
       "2               3              Uptown        13.1                    50.5   \n",
       "3               4      Lincoln Square        17.1                    61.0   \n",
       "4               5        North Center        22.4                    76.2   \n",
       "\n",
       "   Low Birth Weight  Prenatal Care Beginning in First Trimester  \\\n",
       "0              11.0                                        73.0   \n",
       "1               8.1                                        71.1   \n",
       "2               8.3                                        77.7   \n",
       "3               8.1                                        80.5   \n",
       "4               9.1                                        80.4   \n",
       "\n",
       "   Preterm Births  Teen Birth Rate  Assault (Homicide)  \\\n",
       "0            11.2             40.8                 7.7   \n",
       "1             8.3             29.9                 5.8   \n",
       "2            10.3             35.1                 5.4   \n",
       "3             9.7             38.4                 5.0   \n",
       "4             9.8              8.4                 1.0   \n",
       "\n",
       "   Breast cancer in females  ...  Childhood Lead Poisoning  \\\n",
       "0                      23.3  ...                       0.5   \n",
       "1                      20.2  ...                       1.0   \n",
       "2                      21.3  ...                       0.5   \n",
       "3                      21.7  ...                       0.4   \n",
       "4                      16.6  ...                       0.9   \n",
       "\n",
       "   Gonorrhea in Females  Gonorrhea in Males  Tuberculosis  \\\n",
       "0                 322.5               423.3          11.4   \n",
       "1                 141.0               205.7           8.9   \n",
       "2                 170.8               468.7          13.6   \n",
       "3                  98.8               195.5           8.5   \n",
       "4                  85.4               188.6           1.9   \n",
       "\n",
       "   Below Poverty Level  Crowded Housing  Dependency  No High School Diploma  \\\n",
       "0                 22.7              7.9        28.8                    18.1   \n",
       "1                 15.1              7.0        38.3                    19.6   \n",
       "2                 22.7              4.6        22.2                    13.6   \n",
       "3                  9.5              3.1        25.6                    12.5   \n",
       "4                  7.1              0.2        25.5                     5.4   \n",
       "\n",
       "   Per Capita Income  Unemployment  \n",
       "0              23714           7.5  \n",
       "1              21375           7.9  \n",
       "2              32355           7.7  \n",
       "3              35503           6.8  \n",
       "4              51615           4.5  \n",
       "\n",
       "[5 rows x 29 columns]"
      ]
     },
     "execution_count": 18,
     "metadata": {},
     "output_type": "execute_result"
    }
   ],
   "source": [
    "#데이터 불러와서 상위 5개의 데이터 확인\n",
    "df = pd.read_csv(\"./public-health-statistics-selected-public-health-indicators-by-chicago-community-area.csv\")\n",
    "df.head(5)"
   ]
  },
  {
   "cell_type": "code",
   "execution_count": 19,
   "metadata": {},
   "outputs": [
    {
     "data": {
      "text/plain": [
       "Community Area                                  int64\n",
       "Community Area Name                            object\n",
       "Birth Rate                                    float64\n",
       "General Fertility Rate                        float64\n",
       "Low Birth Weight                              float64\n",
       "Prenatal Care Beginning in First Trimester    float64\n",
       "Preterm Births                                float64\n",
       "Teen Birth Rate                               float64\n",
       "Assault (Homicide)                            float64\n",
       "Breast cancer in females                      float64\n",
       "Cancer (All Sites)                            float64\n",
       "Colorectal Cancer                             float64\n",
       "Diabetes-related                              float64\n",
       "Firearm-related                               float64\n",
       "Infant Mortality Rate                         float64\n",
       "Lung Cancer                                   float64\n",
       "Prostate Cancer in Males                      float64\n",
       "Stroke (Cerebrovascular Disease)              float64\n",
       "Childhood Blood Lead Level Screening          float64\n",
       "Childhood Lead Poisoning                      float64\n",
       "Gonorrhea in Females                          float64\n",
       "Gonorrhea in Males                             object\n",
       "Tuberculosis                                  float64\n",
       "Below Poverty Level                           float64\n",
       "Crowded Housing                               float64\n",
       "Dependency                                    float64\n",
       "No High School Diploma                        float64\n",
       "Per Capita Income                               int64\n",
       "Unemployment                                  float64\n",
       "dtype: object"
      ]
     },
     "execution_count": 19,
     "metadata": {},
     "output_type": "execute_result"
    }
   ],
   "source": [
    "#데이터의 타입확인\n",
    "df.dtypes"
   ]
  },
  {
   "cell_type": "code",
   "execution_count": 20,
   "metadata": {},
   "outputs": [],
   "source": [
    "x = df[['Birth Rate',\n",
    "       'General Fertility Rate', 'Low Birth Weight',\n",
    "       'Prenatal Care Beginning in First Trimester', 'Preterm Births',\n",
    "       'Teen Birth Rate', 'Assault (Homicide)', 'Breast cancer in females',\n",
    "       'Cancer (All Sites)', 'Colorectal Cancer', 'Diabetes-related',\n",
    "       'Firearm-related', 'Infant Mortality Rate', 'Lung Cancer',\n",
    "       'Prostate Cancer in Males', 'Stroke (Cerebrovascular Disease)',\n",
    "       'Childhood Blood Lead Level Screening', 'Childhood Lead Poisoning',\n",
    "       'Gonorrhea in Females', 'Tuberculosis',\n",
    "       'Below Poverty Level', 'Crowded Housing', 'Dependency',\n",
    "       'No High School Diploma']]\n",
    "x.dtypes\n",
    "x = x.fillna(x.mean())#결측값을 변수별 평균값으로 채우기"
   ]
  },
  {
   "cell_type": "code",
   "execution_count": 11,
   "metadata": {},
   "outputs": [],
   "source": [
    "y = df[['Unemployment']]#실업률\n",
    "y = y.fillna(y.mean())#결측값을 실업률의 평균으로 채우기"
   ]
  },
  {
   "cell_type": "code",
   "execution_count": 12,
   "metadata": {},
   "outputs": [
    {
     "data": {
      "text/plain": [
       "<matplotlib.axes._subplots.AxesSubplot at 0x226441feef0>"
      ]
     },
     "execution_count": 12,
     "metadata": {},
     "output_type": "execute_result"
    },
    {
     "data": {
      "image/png": "[encoded data removed]",
      "text/plain": [
       "<Figure size 432x288 with 2 Axes>"
      ]
     },
     "metadata": {
      "needs_background": "light"
     },
     "output_type": "display_data"
    }
   ],
   "source": [
    "#열분포도\n",
    "#2차원 수치 데이터를 색으로 표시\n",
    "sns.heatmap(x, cmap=\"Greens\")"
   ]
  },
  {
   "cell_type": "code",
   "execution_count": 13,
   "metadata": {},
   "outputs": [],
   "source": [
    "x_train, x_test, y_train, y_test = train_test_split(\n",
    "    x, y, train_size = 0.8, test_size = 0.2, random_state=6)\n",
    "#데이터셋을 8:2로 훈련용과 테스트용으로 분류\n",
    "#random_state값을 특정값으로 정해야 데이터셋이 변경되는 것을 막을 수 있음"
   ]
  },
  {
   "cell_type": "code",
   "execution_count": 14,
   "metadata": {},
   "outputs": [],
   "source": [
    "lm = LinearRegression()\n",
    "\n",
    "model = lm.fit(x_train, y_train)#선형회귀 모델에 데이터 fit시키기\n",
    "\n",
    "y_predict= lm.predict(x_test)#x_test값으로 y_test값과 비교하기 위한 값 예측"
   ]
  },
  {
   "cell_type": "code",
   "execution_count": 15,
   "metadata": {},
   "outputs": [
    {
     "name": "stdout",
     "output_type": "stream",
     "text": [
      "Train score:\n",
      "0.9409105627772755\n"
     ]
    }
   ],
   "source": [
    "print(\"Train score:\")\n",
    "print(lm.score(x_train, y_train))"
   ]
  },
  {
   "cell_type": "code",
   "execution_count": 16,
   "metadata": {},
   "outputs": [
    {
     "data": {
      "image/png": "[encoded data removed]",
      "text/plain": [
       "<Figure size 432x288 with 1 Axes>"
      ]
     },
     "metadata": {
      "needs_background": "light"
     },
     "output_type": "display_data"
    }
   ],
   "source": [
    "plt.scatter(y_test, y_predict)#실제 실업률과 예측 실업률을 시각화해서 비교하기위한 그래프\n",
    "plt.plot(range(35), range(35))#그래프의 범위\n",
    "\n",
    "plt.xlabel(\"Unemployment: $Y_i$\")\n",
    "plt.ylabel(\"Predicted Unemployment: $\\hat{Y}_i$\")\n",
    "plt.title(\"Actual Unemployment vs Predicted Unemployment\")\n",
    "\n",
    "plt.show()"
   ]
  },
  {
   "cell_type": "code",
   "execution_count": 25,
   "metadata": {},
   "outputs": [
    {
     "name": "stdout",
     "output_type": "stream",
     "text": [
      "[0.52025721] [[ 0.15760361 -0.10722573  0.13407969  0.00308648 -0.12530306  0.04199812\n",
      "   0.3300391   0.07641243 -0.04027806 -0.27243817 -0.00454211 -0.37713187\n",
      "   0.2449973   0.20825248  0.00917521 -0.01815359 -0.00275405  0.51377487\n",
      "   0.00121228 -0.16917247  0.15434959 -0.2626662   0.30053925  0.15245195]]\n",
      "Unemployment    2.783154\n",
      "dtype: float64\n",
      "0.9409105627772755\n"
     ]
    }
   ],
   "source": [
    "# Make predictions\n",
    "expected = y_train#실제 값\n",
    "predicted = model.predict(x_train)#x_train으로 y_train값과 비교하기 위한 값 예측\n",
    "# Summarize the fit of the model\n",
    "#MSE은 손실함수(loss function)로써 값이 작을 수록 좋다.\n",
    "mse = np.mean((predicted-expected)**2)#train MSE(mean squared error)\n",
    "print (model.intercept_, model.coef_) #절편과 기울기 출력\n",
    "print(mse)#cost값 출력\n",
    "print(model.score(x_train, y_train))#훈련 데이터셋대 대한 결정계수 출력"
   ]
  },
  {
   "cell_type": "code",
   "execution_count": null,
   "metadata": {},
   "outputs": [],
   "source": []
  }
 ],
 "metadata": {
  "kernelspec": {
   "display_name": "Python 3",
   "language": "python",
   "name": "python3"
  },
  "language_info": {
   "codemirror_mode": {
    "name": "ipython",
    "version": 3
   },
   "file_extension": ".py",
   "mimetype": "text/x-python",
   "name": "python",
   "nbconvert_exporter": "python",
   "pygments_lexer": "ipython3",
   "version": "3.6.6"
  }
 },
 "nbformat": 4,
 "nbformat_minor": 2
}
