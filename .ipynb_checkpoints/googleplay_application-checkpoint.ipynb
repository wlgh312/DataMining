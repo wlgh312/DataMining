{
 "cells": [
  {
   "cell_type": "code",
   "execution_count": 1,
   "metadata": {},
   "outputs": [
    {
     "name": "stderr",
     "output_type": "stream",
     "text": [
      "c:\\users\\wlgh3\\venv\\tensorflow\\lib\\site-packages\\sklearn\\ensemble\\weight_boosting.py:29: DeprecationWarning: numpy.core.umath_tests is an internal NumPy module and should not be imported. It will be removed in a future NumPy release.\n",
      "  from numpy.core.umath_tests import inner1d\n"
     ]
    }
   ],
   "source": [
    "import zipfile\n",
    "\n",
    "import time\n",
    "from datetime import datetime\n",
    "\n",
    "import pandas as pd\n",
    "import matplotlib.pyplot as plt\n",
    "import seaborn as sns\n",
    "from collections import Counter\n",
    "import numpy as np\n",
    "\n",
    "from sklearn.neighbors import KNeighborsClassifier\n",
    "from sklearn.ensemble import RandomForestClassifier\n",
    "from sklearn import svm\n",
    "from sklearn.model_selection import train_test_split"
   ]
  },
  {
   "cell_type": "code",
   "execution_count": 2,
   "metadata": {},
   "outputs": [],
   "source": [
    "#csv파일을 데이터프레임으로 변환\n",
    "data=pd.read_csv('googleplaystore.csv')"
   ]
  },
  {
   "cell_type": "markdown",
   "metadata": {},
   "source": [
    "* App: Application 이름\n",
    "* Category: 앱이 속해있는 카테고리\n",
    "* Rating: 앱에 대한 전체 사용자의 평가\n",
    "* Reviews: 앱에 대한 사용자 리뷰 수\n",
    "* Size: 앱의 크기\n",
    "* Installs: 앱에 대한 다운로드/설치 수\n",
    "* Type: 유로 or 무료\n",
    "* Price: 앱의 가격\n",
    "* Content Rating: 앱의 연령 대상 그룹\n",
    "* Genres: 앱이 속해있는 장르(주 카테고리 제외) ex)뮤지컬 가족 게임은 음악, 게임, 가족 장르에 속함\n",
    "* Last Updated: 앱이 플레이 스토어에서 마지막으로 업데이트 된 날\n",
    "* Current Ver: 플레이 스토어에서 다운받을 수 있는 앱의 현재 버전\n",
    "* Android Ver: 다운받을 때 필요한 안드로이드의 최소 필수 버전"
   ]
  },
  {
   "cell_type": "code",
   "execution_count": 3,
   "metadata": {},
   "outputs": [
    {
     "name": "stdout",
     "output_type": "stream",
     "text": [
      "Shape =  (10841, 13)\n",
      "Columns =  Index(['App', 'Category', 'Rating', 'Reviews', 'Size', 'Installs', 'Type',\n",
      "       'Price', 'Content Rating', 'Genres', 'Last Updated', 'Current Ver',\n",
      "       'Android Ver'],\n",
      "      dtype='object')\n"
     ]
    }
   ],
   "source": [
    "print(\"Shape = \",data.shape)#데이터 구조\n",
    "print(\"Columns = \",data.columns)#데이터 열의 이름"
   ]
  },
  {
   "cell_type": "code",
   "execution_count": 4,
   "metadata": {},
   "outputs": [
    {
     "data": {
      "text/html": [
       "<div>\n",
       "<style scoped>\n",
       "    .dataframe tbody tr th:only-of-type {\n",
       "        vertical-align: middle;\n",
       "    }\n",
       "\n",
       "    .dataframe tbody tr th {\n",
       "        vertical-align: top;\n",
       "    }\n",
       "\n",
       "    .dataframe thead th {\n",
       "        text-align: right;\n",
       "    }\n",
       "</style>\n",
       "<table border=\"1\" class=\"dataframe\">\n",
       "  <thead>\n",
       "    <tr style=\"text-align: right;\">\n",
       "      <th></th>\n",
       "      <th>App</th>\n",
       "      <th>Category</th>\n",
       "      <th>Rating</th>\n",
       "      <th>Reviews</th>\n",
       "      <th>Size</th>\n",
       "      <th>Installs</th>\n",
       "      <th>Type</th>\n",
       "      <th>Price</th>\n",
       "      <th>Content Rating</th>\n",
       "      <th>Genres</th>\n",
       "      <th>Last Updated</th>\n",
       "      <th>Current Ver</th>\n",
       "      <th>Android Ver</th>\n",
       "    </tr>\n",
       "  </thead>\n",
       "  <tbody>\n",
       "    <tr>\n",
       "      <th>0</th>\n",
       "      <td>Photo Editor &amp; Candy Camera &amp; Grid &amp; ScrapBook</td>\n",
       "      <td>ART_AND_DESIGN</td>\n",
       "      <td>4.1</td>\n",
       "      <td>159</td>\n",
       "      <td>19M</td>\n",
       "      <td>10,000+</td>\n",
       "      <td>Free</td>\n",
       "      <td>0</td>\n",
       "      <td>Everyone</td>\n",
       "      <td>Art &amp; Design</td>\n",
       "      <td>January 7, 2018</td>\n",
       "      <td>1.0.0</td>\n",
       "      <td>4.0.3 and up</td>\n",
       "    </tr>\n",
       "    <tr>\n",
       "      <th>1</th>\n",
       "      <td>Coloring book moana</td>\n",
       "      <td>ART_AND_DESIGN</td>\n",
       "      <td>3.9</td>\n",
       "      <td>967</td>\n",
       "      <td>14M</td>\n",
       "      <td>500,000+</td>\n",
       "      <td>Free</td>\n",
       "      <td>0</td>\n",
       "      <td>Everyone</td>\n",
       "      <td>Art &amp; Design;Pretend Play</td>\n",
       "      <td>January 15, 2018</td>\n",
       "      <td>2.0.0</td>\n",
       "      <td>4.0.3 and up</td>\n",
       "    </tr>\n",
       "    <tr>\n",
       "      <th>2</th>\n",
       "      <td>U Launcher Lite – FREE Live Cool Themes, Hide ...</td>\n",
       "      <td>ART_AND_DESIGN</td>\n",
       "      <td>4.7</td>\n",
       "      <td>87510</td>\n",
       "      <td>8.7M</td>\n",
       "      <td>5,000,000+</td>\n",
       "      <td>Free</td>\n",
       "      <td>0</td>\n",
       "      <td>Everyone</td>\n",
       "      <td>Art &amp; Design</td>\n",
       "      <td>August 1, 2018</td>\n",
       "      <td>1.2.4</td>\n",
       "      <td>4.0.3 and up</td>\n",
       "    </tr>\n",
       "    <tr>\n",
       "      <th>3</th>\n",
       "      <td>Sketch - Draw &amp; Paint</td>\n",
       "      <td>ART_AND_DESIGN</td>\n",
       "      <td>4.5</td>\n",
       "      <td>215644</td>\n",
       "      <td>25M</td>\n",
       "      <td>50,000,000+</td>\n",
       "      <td>Free</td>\n",
       "      <td>0</td>\n",
       "      <td>Teen</td>\n",
       "      <td>Art &amp; Design</td>\n",
       "      <td>June 8, 2018</td>\n",
       "      <td>Varies with device</td>\n",
       "      <td>4.2 and up</td>\n",
       "    </tr>\n",
       "    <tr>\n",
       "      <th>4</th>\n",
       "      <td>Pixel Draw - Number Art Coloring Book</td>\n",
       "      <td>ART_AND_DESIGN</td>\n",
       "      <td>4.3</td>\n",
       "      <td>967</td>\n",
       "      <td>2.8M</td>\n",
       "      <td>100,000+</td>\n",
       "      <td>Free</td>\n",
       "      <td>0</td>\n",
       "      <td>Everyone</td>\n",
       "      <td>Art &amp; Design;Creativity</td>\n",
       "      <td>June 20, 2018</td>\n",
       "      <td>1.1</td>\n",
       "      <td>4.4 and up</td>\n",
       "    </tr>\n",
       "  </tbody>\n",
       "</table>\n",
       "</div>"
      ],
      "text/plain": [
       "                                                 App        Category  Rating  \\\n",
       "0     Photo Editor & Candy Camera & Grid & ScrapBook  ART_AND_DESIGN     4.1   \n",
       "1                                Coloring book moana  ART_AND_DESIGN     3.9   \n",
       "2  U Launcher Lite – FREE Live Cool Themes, Hide ...  ART_AND_DESIGN     4.7   \n",
       "3                              Sketch - Draw & Paint  ART_AND_DESIGN     4.5   \n",
       "4              Pixel Draw - Number Art Coloring Book  ART_AND_DESIGN     4.3   \n",
       "\n",
       "  Reviews  Size     Installs  Type Price Content Rating  \\\n",
       "0     159   19M      10,000+  Free     0       Everyone   \n",
       "1     967   14M     500,000+  Free     0       Everyone   \n",
       "2   87510  8.7M   5,000,000+  Free     0       Everyone   \n",
       "3  215644   25M  50,000,000+  Free     0           Teen   \n",
       "4     967  2.8M     100,000+  Free     0       Everyone   \n",
       "\n",
       "                      Genres      Last Updated         Current Ver  \\\n",
       "0               Art & Design   January 7, 2018               1.0.0   \n",
       "1  Art & Design;Pretend Play  January 15, 2018               2.0.0   \n",
       "2               Art & Design    August 1, 2018               1.2.4   \n",
       "3               Art & Design      June 8, 2018  Varies with device   \n",
       "4    Art & Design;Creativity     June 20, 2018                 1.1   \n",
       "\n",
       "    Android Ver  \n",
       "0  4.0.3 and up  \n",
       "1  4.0.3 and up  \n",
       "2  4.0.3 and up  \n",
       "3    4.2 and up  \n",
       "4    4.4 and up  "
      ]
     },
     "metadata": {},
     "output_type": "display_data"
    }
   ],
   "source": [
    "display(data.head())#데이터의 상위 5개 보기"
   ]
  },
  {
   "cell_type": "code",
   "execution_count": 5,
   "metadata": {},
   "outputs": [],
   "source": [
    "#데이터 정리를 위한 복사\n",
    "df=data.copy()#데이터 복사본 만들기"
   ]
  },
  {
   "cell_type": "markdown",
   "metadata": {},
   "source": [
    "## Cleaning\n",
    "예측을 위해 데이터의 자료형을 정수나 실수로 변환하고 불필요한 자료는 없애는 과정이 필요하다.  "
   ]
  },
  {
   "cell_type": "code",
   "execution_count": 6,
   "metadata": {},
   "outputs": [
    {
     "name": "stdout",
     "output_type": "stream",
     "text": [
      "<class 'pandas.core.frame.DataFrame'>\n",
      "RangeIndex: 10841 entries, 0 to 10840\n",
      "Data columns (total 13 columns):\n",
      " #   Column          Non-Null Count  Dtype  \n",
      "---  ------          --------------  -----  \n",
      " 0   App             10841 non-null  object \n",
      " 1   Category        10841 non-null  object \n",
      " 2   Rating          9367 non-null   float64\n",
      " 3   Reviews         10841 non-null  object \n",
      " 4   Size            10841 non-null  object \n",
      " 5   Installs        10841 non-null  object \n",
      " 6   Type            10840 non-null  object \n",
      " 7   Price           10841 non-null  object \n",
      " 8   Content Rating  10840 non-null  object \n",
      " 9   Genres          10841 non-null  object \n",
      " 10  Last Updated    10841 non-null  object \n",
      " 11  Current Ver     10833 non-null  object \n",
      " 12  Android Ver     10838 non-null  object \n",
      "dtypes: float64(1), object(12)\n",
      "memory usage: 1.1+ MB\n"
     ]
    }
   ],
   "source": [
    "#누락된 데이터가 존재하는지 확인\n",
    "df.info()#데이터의 자료구조 확인"
   ]
  },
  {
   "cell_type": "code",
   "execution_count": 7,
   "metadata": {},
   "outputs": [],
   "source": [
    "df.dropna(inplace=True)#누락된 값 삭제"
   ]
  },
  {
   "cell_type": "code",
   "execution_count": 8,
   "metadata": {},
   "outputs": [
    {
     "data": {
      "text/plain": [
       "App               0\n",
       "Category          0\n",
       "Rating            0\n",
       "Reviews           0\n",
       "Size              0\n",
       "Installs          0\n",
       "Type              0\n",
       "Price             0\n",
       "Content Rating    0\n",
       "Genres            0\n",
       "Last Updated      0\n",
       "Current Ver       0\n",
       "Android Ver       0\n",
       "dtype: int64"
      ]
     },
     "execution_count": 8,
     "metadata": {},
     "output_type": "execute_result"
    }
   ],
   "source": [
    "df.isnull().sum()#누락된 값이 아직 존재하는지 확인"
   ]
  },
  {
   "cell_type": "code",
   "execution_count": 9,
   "metadata": {},
   "outputs": [],
   "source": [
    "#'Installs'의 데이터를 숫자만 있는 값으로 변경\n",
    "df['Installs'] = df['Installs'].astype(str)#replace를 위해 문자열로 변환\n",
    "df['Installs'] = df['Installs'].apply(lambda x: x.replace(',',''))#쉼표 삭제\n",
    "df['Installs'] = df['Installs'].apply(lambda x: x.replace('+',''))#플러스 삭제\n",
    "df['Installs'] = df['Installs'].apply(lambda x: int(x))#정수형으로 변환"
   ]
  },
  {
   "cell_type": "code",
   "execution_count": 10,
   "metadata": {},
   "outputs": [
    {
     "data": {
      "text/plain": [
       "array(['0', '$4.99', '$3.99', '$6.99', '$7.99', '$5.99', '$2.99', '$3.49',\n",
       "       '$1.99', '$9.99', '$7.49', '$0.99', '$9.00', '$5.49', '$10.00',\n",
       "       '$24.99', '$11.99', '$79.99', '$16.99', '$14.99', '$29.99',\n",
       "       '$12.99', '$2.49', '$10.99', '$1.50', '$19.99', '$15.99', '$33.99',\n",
       "       '$39.99', '$3.95', '$4.49', '$1.70', '$8.99', '$1.49', '$3.88',\n",
       "       '$399.99', '$17.99', '$400.00', '$3.02', '$1.76', '$4.84', '$4.77',\n",
       "       '$1.61', '$2.50', '$1.59', '$6.49', '$1.29', '$299.99', '$379.99',\n",
       "       '$37.99', '$18.99', '$389.99', '$8.49', '$1.75', '$14.00', '$2.00',\n",
       "       '$3.08', '$2.59', '$19.40', '$3.90', '$4.59', '$15.46', '$3.04',\n",
       "       '$13.99', '$4.29', '$3.28', '$4.60', '$1.00', '$2.95', '$2.90',\n",
       "       '$1.97', '$2.56', '$1.20'], dtype=object)"
      ]
     },
     "execution_count": 10,
     "metadata": {},
     "output_type": "execute_result"
    }
   ],
   "source": [
    "df[\"Price\"].unique()#가격의 종류 확인"
   ]
  },
  {
   "cell_type": "code",
   "execution_count": 11,
   "metadata": {},
   "outputs": [
    {
     "data": {
      "text/plain": [
       "array([  0.  ,   4.99,   3.99,   6.99,   7.99,   5.99,   2.99,   3.49,\n",
       "         1.99,   9.99,   7.49,   0.99,   9.  ,   5.49,  10.  ,  24.99,\n",
       "        11.99,  79.99,  16.99,  14.99,  29.99,  12.99,   2.49,  10.99,\n",
       "         1.5 ,  19.99,  15.99,  33.99,  39.99,   3.95,   4.49,   1.7 ,\n",
       "         8.99,   1.49,   3.88, 399.99,  17.99, 400.  ,   3.02,   1.76,\n",
       "         4.84,   4.77,   1.61,   2.5 ,   1.59,   6.49,   1.29, 299.99,\n",
       "       379.99,  37.99,  18.99, 389.99,   8.49,   1.75,  14.  ,   2.  ,\n",
       "         3.08,   2.59,  19.4 ,   3.9 ,   4.59,  15.46,   3.04,  13.99,\n",
       "         4.29,   3.28,   4.6 ,   1.  ,   2.95,   2.9 ,   1.97,   2.56,\n",
       "         1.2 ])"
      ]
     },
     "execution_count": 11,
     "metadata": {},
     "output_type": "execute_result"
    }
   ],
   "source": [
    "df[\"Price\"] = df[\"Price\"].apply(lambda x: x.replace('$',''))#달러표시 삭제\n",
    "df.rename(columns={'Price': 'Price(in $)'}, inplace=True)#달러를 명칭에 추가\n",
    "df['Price(in $)'] = df['Price(in $)'].apply(lambda x: float(x))\n",
    "df['Price(in $)'].unique()#가격 종류 확인"
   ]
  },
  {
   "cell_type": "code",
   "execution_count": 12,
   "metadata": {},
   "outputs": [
    {
     "data": {
      "text/plain": [
       "array(['19M', '14M', '8.7M', '25M', '2.8M', '5.6M', '29M', '33M', '3.1M',\n",
       "       '28M', '12M', '20M', '21M', '37M', '5.5M', '17M', '39M', '31M',\n",
       "       '4.2M', '23M', '6.0M', '6.1M', '4.6M', '9.2M', '5.2M', '11M',\n",
       "       '24M', 'Varies with device', '9.4M', '15M', '10M', '1.2M', '26M',\n",
       "       '8.0M', '7.9M', '56M', '57M', '35M', '54M', '201k', '3.6M', '5.7M',\n",
       "       '8.6M', '2.4M', '27M', '2.7M', '2.5M', '7.0M', '16M', '3.4M',\n",
       "       '8.9M', '3.9M', '2.9M', '38M', '32M', '5.4M', '18M', '1.1M',\n",
       "       '2.2M', '4.5M', '9.8M', '52M', '9.0M', '6.7M', '30M', '2.6M',\n",
       "       '7.1M', '22M', '6.4M', '3.2M', '8.2M', '4.9M', '9.5M', '5.0M',\n",
       "       '5.9M', '13M', '73M', '6.8M', '3.5M', '4.0M', '2.3M', '2.1M',\n",
       "       '42M', '9.1M', '55M', '23k', '7.3M', '6.5M', '1.5M', '7.5M', '51M',\n",
       "       '41M', '48M', '8.5M', '46M', '8.3M', '4.3M', '4.7M', '3.3M', '40M',\n",
       "       '7.8M', '8.8M', '6.6M', '5.1M', '61M', '66M', '79k', '8.4M',\n",
       "       '3.7M', '118k', '44M', '695k', '1.6M', '6.2M', '53M', '1.4M',\n",
       "       '3.0M', '7.2M', '5.8M', '3.8M', '9.6M', '45M', '63M', '49M', '77M',\n",
       "       '4.4M', '70M', '9.3M', '8.1M', '36M', '6.9M', '7.4M', '84M', '97M',\n",
       "       '2.0M', '1.9M', '1.8M', '5.3M', '47M', '556k', '526k', '76M',\n",
       "       '7.6M', '59M', '9.7M', '78M', '72M', '43M', '7.7M', '6.3M', '334k',\n",
       "       '93M', '65M', '79M', '100M', '58M', '50M', '68M', '64M', '34M',\n",
       "       '67M', '60M', '94M', '9.9M', '232k', '99M', '624k', '95M', '8.5k',\n",
       "       '41k', '292k', '80M', '1.7M', '10.0M', '74M', '62M', '69M', '75M',\n",
       "       '98M', '85M', '82M', '96M', '87M', '71M', '86M', '91M', '81M',\n",
       "       '92M', '83M', '88M', '704k', '862k', '899k', '378k', '4.8M',\n",
       "       '266k', '375k', '1.3M', '975k', '980k', '4.1M', '89M', '696k',\n",
       "       '544k', '525k', '920k', '779k', '853k', '720k', '713k', '772k',\n",
       "       '318k', '58k', '241k', '196k', '857k', '51k', '953k', '865k',\n",
       "       '251k', '930k', '540k', '313k', '746k', '203k', '26k', '314k',\n",
       "       '239k', '371k', '220k', '730k', '756k', '91k', '293k', '17k',\n",
       "       '74k', '14k', '317k', '78k', '924k', '818k', '81k', '939k', '169k',\n",
       "       '45k', '965k', '90M', '545k', '61k', '283k', '655k', '714k', '93k',\n",
       "       '872k', '121k', '322k', '976k', '206k', '954k', '444k', '717k',\n",
       "       '210k', '609k', '308k', '306k', '175k', '350k', '383k', '454k',\n",
       "       '1.0M', '70k', '812k', '442k', '842k', '417k', '412k', '459k',\n",
       "       '478k', '335k', '782k', '721k', '430k', '429k', '192k', '460k',\n",
       "       '728k', '496k', '816k', '414k', '506k', '887k', '613k', '778k',\n",
       "       '683k', '592k', '186k', '840k', '647k', '373k', '437k', '598k',\n",
       "       '716k', '585k', '982k', '219k', '55k', '323k', '691k', '511k',\n",
       "       '951k', '963k', '25k', '554k', '351k', '27k', '82k', '208k',\n",
       "       '551k', '29k', '103k', '116k', '153k', '209k', '499k', '173k',\n",
       "       '597k', '809k', '122k', '411k', '400k', '801k', '787k', '50k',\n",
       "       '643k', '986k', '516k', '837k', '780k', '20k', '498k', '600k',\n",
       "       '656k', '221k', '228k', '176k', '34k', '259k', '164k', '458k',\n",
       "       '629k', '28k', '288k', '775k', '785k', '636k', '916k', '994k',\n",
       "       '309k', '485k', '914k', '903k', '608k', '500k', '54k', '562k',\n",
       "       '847k', '948k', '811k', '270k', '48k', '523k', '784k', '280k',\n",
       "       '24k', '892k', '154k', '18k', '33k', '860k', '364k', '387k',\n",
       "       '626k', '161k', '879k', '39k', '170k', '141k', '160k', '144k',\n",
       "       '143k', '190k', '376k', '193k', '473k', '246k', '73k', '253k',\n",
       "       '957k', '420k', '72k', '404k', '470k', '226k', '240k', '89k',\n",
       "       '234k', '257k', '861k', '467k', '676k', '552k', '582k', '619k'],\n",
       "      dtype=object)"
      ]
     },
     "execution_count": 12,
     "metadata": {},
     "output_type": "execute_result"
    }
   ],
   "source": [
    "df[\"Size\"].unique()#앱 사이즈 종류 확인"
   ]
  },
  {
   "cell_type": "code",
   "execution_count": 13,
   "metadata": {},
   "outputs": [],
   "source": [
    "#특이한 값을 가진 데이터 삭제\n",
    "indices_varies_with_device = (df[\"Size\"] != \"Varies with device\").values#'varies with device'사이즈를 가진 데이터가 아닌 나머지 지정\n",
    "df = df[indices_varies_with_device]#나머지로 다시 데이터셋 지정"
   ]
  },
  {
   "cell_type": "code",
   "execution_count": 14,
   "metadata": {},
   "outputs": [],
   "source": [
    "def size_coverter(size):\n",
    "    size = size.lower()#사이즈 값을 모두 소문자로 변경\n",
    "    #num = 사이즈의 수 부분\n",
    "    #eng = 사이즈의 문자로 되어있는 단위 부분\n",
    "    num, eng = float(size[:-1].replace(',', '')), size[-1]#쉼표는 삭제\n",
    "    \n",
    "    eng2multiplier = {'k': 1000, 'm': 1000000, '+': 1}#각 문자 단위에 맞는 수 지정\n",
    "    \n",
    "    numerical_size = num * eng2multiplier[eng]#문자 단위를 숫자로 변경\n",
    "    return numerical_size\n",
    "\n",
    "df[\"Size\"] = df[\"Size\"].apply(lambda s: int(size_coverter(s)))"
   ]
  },
  {
   "cell_type": "code",
   "execution_count": 15,
   "metadata": {},
   "outputs": [
    {
     "data": {
      "text/plain": [
       "Counter({19000000: 129,\n",
       "         14000000: 165,\n",
       "         8700000: 28,\n",
       "         25000000: 137,\n",
       "         2800000: 51,\n",
       "         5600000: 27,\n",
       "         29000000: 69,\n",
       "         33000000: 71,\n",
       "         3100000: 45,\n",
       "         28000000: 77,\n",
       "         12000000: 161,\n",
       "         20000000: 115,\n",
       "         21000000: 120,\n",
       "         37000000: 75,\n",
       "         5500000: 29,\n",
       "         17000000: 131,\n",
       "         39000000: 55,\n",
       "         31000000: 66,\n",
       "         4200000: 44,\n",
       "         23000000: 106,\n",
       "         6000000: 28,\n",
       "         6100000: 36,\n",
       "         4600000: 37,\n",
       "         9200000: 27,\n",
       "         5200000: 24,\n",
       "         11000000: 159,\n",
       "         24000000: 118,\n",
       "         9400000: 20,\n",
       "         15000000: 159,\n",
       "         10000000: 102,\n",
       "         1200000: 30,\n",
       "         26000000: 110,\n",
       "         8000000: 19,\n",
       "         7900000: 28,\n",
       "         56000000: 30,\n",
       "         57000000: 37,\n",
       "         35000000: 70,\n",
       "         54000000: 26,\n",
       "         201000: 3,\n",
       "         3600000: 39,\n",
       "         5700000: 35,\n",
       "         8600000: 21,\n",
       "         2400000: 41,\n",
       "         27000000: 88,\n",
       "         2700000: 43,\n",
       "         2500000: 53,\n",
       "         7000000: 28,\n",
       "         16000000: 117,\n",
       "         3400000: 46,\n",
       "         8900000: 22,\n",
       "         3900000: 50,\n",
       "         2900000: 50,\n",
       "         38000000: 51,\n",
       "         32000000: 53,\n",
       "         5400000: 44,\n",
       "         18000000: 108,\n",
       "         1100000: 25,\n",
       "         2200000: 41,\n",
       "         4500000: 35,\n",
       "         9800000: 28,\n",
       "         52000000: 34,\n",
       "         9000000: 23,\n",
       "         6700000: 22,\n",
       "         30000000: 69,\n",
       "         2600000: 40,\n",
       "         7100000: 25,\n",
       "         22000000: 98,\n",
       "         6400000: 27,\n",
       "         3200000: 43,\n",
       "         8199999: 24,\n",
       "         4900000: 35,\n",
       "         9500000: 26,\n",
       "         5000000: 48,\n",
       "         5900000: 30,\n",
       "         13000000: 157,\n",
       "         73000000: 14,\n",
       "         6800000: 25,\n",
       "         3500000: 43,\n",
       "         4000000: 51,\n",
       "         2300000: 49,\n",
       "         2100000: 29,\n",
       "         42000000: 34,\n",
       "         9100000: 27,\n",
       "         55000000: 28,\n",
       "         23000: 1,\n",
       "         7300000: 33,\n",
       "         6500000: 28,\n",
       "         1500000: 38,\n",
       "         7500000: 23,\n",
       "         51000000: 32,\n",
       "         41000000: 46,\n",
       "         48000000: 56,\n",
       "         8500000: 30,\n",
       "         46000000: 57,\n",
       "         8300000: 28,\n",
       "         4300000: 44,\n",
       "         4700000: 31,\n",
       "         3300000: 63,\n",
       "         40000000: 58,\n",
       "         7800000: 21,\n",
       "         8800000: 22,\n",
       "         6600000: 27,\n",
       "         5100000: 30,\n",
       "         61000000: 25,\n",
       "         66000000: 15,\n",
       "         79000: 3,\n",
       "         8400000: 25,\n",
       "         3700000: 44,\n",
       "         118000: 2,\n",
       "         44000000: 57,\n",
       "         695000: 1,\n",
       "         1600000: 31,\n",
       "         6200000: 24,\n",
       "         53000000: 42,\n",
       "         1400000: 25,\n",
       "         3000000: 47,\n",
       "         7200000: 25,\n",
       "         5800000: 29,\n",
       "         3800000: 53,\n",
       "         9600000: 13,\n",
       "         45000000: 38,\n",
       "         63000000: 40,\n",
       "         49000000: 43,\n",
       "         77000000: 11,\n",
       "         4400000: 35,\n",
       "         70000000: 26,\n",
       "         9300000: 11,\n",
       "         8100000: 22,\n",
       "         36000000: 53,\n",
       "         6900000: 33,\n",
       "         7400000: 26,\n",
       "         84000000: 9,\n",
       "         97000000: 20,\n",
       "         2000000: 40,\n",
       "         1900000: 27,\n",
       "         1800000: 39,\n",
       "         5300000: 33,\n",
       "         47000000: 32,\n",
       "         556000: 1,\n",
       "         526000: 1,\n",
       "         76000000: 26,\n",
       "         7600000: 22,\n",
       "         59000000: 36,\n",
       "         9700000: 18,\n",
       "         78000000: 23,\n",
       "         72000000: 19,\n",
       "         43000000: 43,\n",
       "         7700000: 22,\n",
       "         6300000: 39,\n",
       "         334000: 2,\n",
       "         93000000: 15,\n",
       "         65000000: 9,\n",
       "         79000000: 11,\n",
       "         100000000: 16,\n",
       "         58000000: 26,\n",
       "         50000000: 43,\n",
       "         68000000: 17,\n",
       "         64000000: 14,\n",
       "         34000000: 54,\n",
       "         67000000: 31,\n",
       "         60000000: 34,\n",
       "         94000000: 17,\n",
       "         9900000: 19,\n",
       "         232000: 1,\n",
       "         99000000: 38,\n",
       "         624000: 1,\n",
       "         95000000: 18,\n",
       "         8500: 1,\n",
       "         41000: 1,\n",
       "         292000: 1,\n",
       "         80000000: 13,\n",
       "         1700000: 28,\n",
       "         74000000: 19,\n",
       "         62000000: 26,\n",
       "         69000000: 23,\n",
       "         75000000: 12,\n",
       "         98000000: 14,\n",
       "         85000000: 15,\n",
       "         82000000: 20,\n",
       "         96000000: 25,\n",
       "         87000000: 12,\n",
       "         71000000: 13,\n",
       "         86000000: 8,\n",
       "         91000000: 22,\n",
       "         81000000: 11,\n",
       "         92000000: 14,\n",
       "         83000000: 14,\n",
       "         88000000: 14,\n",
       "         704000: 2,\n",
       "         862000: 1,\n",
       "         899000: 1,\n",
       "         378000: 1,\n",
       "         4800000: 24,\n",
       "         266000: 3,\n",
       "         375000: 3,\n",
       "         1300000: 27,\n",
       "         975000: 1,\n",
       "         980000: 1,\n",
       "         4099999: 44,\n",
       "         89000000: 9,\n",
       "         696000: 1,\n",
       "         544000: 1,\n",
       "         525000: 1,\n",
       "         920000: 1,\n",
       "         779000: 1,\n",
       "         853000: 1,\n",
       "         720000: 1,\n",
       "         713000: 1,\n",
       "         772000: 1,\n",
       "         318000: 2,\n",
       "         58000: 2,\n",
       "         241000: 1,\n",
       "         196000: 2,\n",
       "         857000: 1,\n",
       "         51000: 2,\n",
       "         953000: 1,\n",
       "         865000: 1,\n",
       "         251000: 1,\n",
       "         930000: 1,\n",
       "         540000: 1,\n",
       "         313000: 1,\n",
       "         746000: 1,\n",
       "         203000: 1,\n",
       "         26000: 2,\n",
       "         314000: 1,\n",
       "         239000: 1,\n",
       "         371000: 1,\n",
       "         220000: 1,\n",
       "         730000: 1,\n",
       "         756000: 1,\n",
       "         91000: 1,\n",
       "         293000: 1,\n",
       "         17000: 2,\n",
       "         74000: 1,\n",
       "         14000: 1,\n",
       "         317000: 1,\n",
       "         78000: 1,\n",
       "         924000: 1,\n",
       "         818000: 1,\n",
       "         81000: 1,\n",
       "         939000: 1,\n",
       "         169000: 1,\n",
       "         45000: 1,\n",
       "         965000: 1,\n",
       "         90000000: 5,\n",
       "         545000: 1,\n",
       "         61000: 1,\n",
       "         283000: 1,\n",
       "         655000: 1,\n",
       "         714000: 1,\n",
       "         93000: 1,\n",
       "         872000: 1,\n",
       "         121000: 1,\n",
       "         322000: 1,\n",
       "         976000: 1,\n",
       "         206000: 1,\n",
       "         954000: 1,\n",
       "         444000: 1,\n",
       "         717000: 1,\n",
       "         210000: 1,\n",
       "         609000: 1,\n",
       "         308000: 1,\n",
       "         306000: 1,\n",
       "         175000: 1,\n",
       "         350000: 1,\n",
       "         383000: 1,\n",
       "         454000: 1,\n",
       "         1000000: 4,\n",
       "         70000: 2,\n",
       "         812000: 1,\n",
       "         442000: 1,\n",
       "         842000: 1,\n",
       "         417000: 2,\n",
       "         412000: 1,\n",
       "         459000: 1,\n",
       "         478000: 1,\n",
       "         335000: 2,\n",
       "         782000: 1,\n",
       "         721000: 1,\n",
       "         430000: 1,\n",
       "         429000: 1,\n",
       "         192000: 2,\n",
       "         460000: 1,\n",
       "         728000: 1,\n",
       "         496000: 1,\n",
       "         816000: 1,\n",
       "         414000: 1,\n",
       "         506000: 1,\n",
       "         887000: 1,\n",
       "         613000: 1,\n",
       "         778000: 1,\n",
       "         683000: 1,\n",
       "         592000: 2,\n",
       "         186000: 1,\n",
       "         840000: 1,\n",
       "         647000: 1,\n",
       "         373000: 1,\n",
       "         437000: 1,\n",
       "         598000: 1,\n",
       "         716000: 1,\n",
       "         585000: 1,\n",
       "         982000: 1,\n",
       "         219000: 1,\n",
       "         55000: 1,\n",
       "         323000: 2,\n",
       "         691000: 1,\n",
       "         511000: 1,\n",
       "         951000: 1,\n",
       "         963000: 1,\n",
       "         25000: 1,\n",
       "         554000: 1,\n",
       "         351000: 1,\n",
       "         27000: 1,\n",
       "         82000: 1,\n",
       "         208000: 1,\n",
       "         551000: 1,\n",
       "         29000: 2,\n",
       "         103000: 1,\n",
       "         116000: 1,\n",
       "         153000: 1,\n",
       "         209000: 1,\n",
       "         499000: 1,\n",
       "         173000: 1,\n",
       "         597000: 1,\n",
       "         809000: 1,\n",
       "         122000: 1,\n",
       "         411000: 1,\n",
       "         400000: 1,\n",
       "         801000: 1,\n",
       "         787000: 1,\n",
       "         50000: 1,\n",
       "         643000: 1,\n",
       "         986000: 1,\n",
       "         516000: 1,\n",
       "         837000: 1,\n",
       "         780000: 1,\n",
       "         20000: 1,\n",
       "         498000: 1,\n",
       "         600000: 1,\n",
       "         656000: 1,\n",
       "         221000: 1,\n",
       "         228000: 2,\n",
       "         176000: 1,\n",
       "         34000: 1,\n",
       "         259000: 1,\n",
       "         164000: 1,\n",
       "         458000: 1,\n",
       "         629000: 1,\n",
       "         28000: 1,\n",
       "         288000: 1,\n",
       "         775000: 1,\n",
       "         785000: 1,\n",
       "         636000: 1,\n",
       "         916000: 1,\n",
       "         994000: 1,\n",
       "         309000: 1,\n",
       "         485000: 1,\n",
       "         914000: 1,\n",
       "         903000: 1,\n",
       "         608000: 1,\n",
       "         500000: 1,\n",
       "         54000: 1,\n",
       "         562000: 1,\n",
       "         847000: 1,\n",
       "         948000: 1,\n",
       "         811000: 1,\n",
       "         270000: 1,\n",
       "         48000: 1,\n",
       "         523000: 1,\n",
       "         784000: 1,\n",
       "         280000: 1,\n",
       "         24000: 1,\n",
       "         892000: 1,\n",
       "         154000: 1,\n",
       "         18000: 1,\n",
       "         33000: 1,\n",
       "         860000: 1,\n",
       "         364000: 2,\n",
       "         387000: 1,\n",
       "         626000: 1,\n",
       "         161000: 1,\n",
       "         879000: 1,\n",
       "         39000: 1,\n",
       "         170000: 1,\n",
       "         141000: 2,\n",
       "         160000: 1,\n",
       "         144000: 1,\n",
       "         143000: 1,\n",
       "         190000: 1,\n",
       "         376000: 1,\n",
       "         193000: 1,\n",
       "         473000: 1,\n",
       "         246000: 1,\n",
       "         73000: 1,\n",
       "         253000: 1,\n",
       "         957000: 1,\n",
       "         420000: 1,\n",
       "         72000: 1,\n",
       "         404000: 1,\n",
       "         470000: 1,\n",
       "         226000: 1,\n",
       "         240000: 1,\n",
       "         89000: 1,\n",
       "         234000: 1,\n",
       "         257000: 1,\n",
       "         861000: 1,\n",
       "         467000: 1,\n",
       "         676000: 1,\n",
       "         552000: 1,\n",
       "         582000: 1,\n",
       "         619000: 1})"
      ]
     },
     "execution_count": 15,
     "metadata": {},
     "output_type": "execute_result"
    }
   ],
   "source": [
    "Counter(df[\"Size\"])#각 사이즈를 가진 앱의 개수 출력"
   ]
  },
  {
   "cell_type": "code",
   "execution_count": 16,
   "metadata": {},
   "outputs": [],
   "source": [
    "df['Reviews'] = df['Reviews'].astype(np.int)#리뷰 수를 정수형으로 변환"
   ]
  },
  {
   "cell_type": "code",
   "execution_count": 17,
   "metadata": {},
   "outputs": [],
   "source": [
    "#업데이트와 관련된 열 삭제\n",
    "df = df.drop(columns=['Last Updated'])\n",
    "df = df.drop(columns=['Current Ver'])\n",
    "df = df.drop(columns=['Android Ver'])"
   ]
  },
  {
   "cell_type": "code",
   "execution_count": 18,
   "metadata": {},
   "outputs": [
    {
     "name": "stdout",
     "output_type": "stream",
     "text": [
      "<class 'pandas.core.frame.DataFrame'>\n",
      "Int64Index: 7723 entries, 0 to 10840\n",
      "Data columns (total 10 columns):\n",
      " #   Column          Non-Null Count  Dtype  \n",
      "---  ------          --------------  -----  \n",
      " 0   App             7723 non-null   object \n",
      " 1   Category        7723 non-null   object \n",
      " 2   Rating          7723 non-null   float64\n",
      " 3   Reviews         7723 non-null   int32  \n",
      " 4   Size            7723 non-null   int64  \n",
      " 5   Installs        7723 non-null   int64  \n",
      " 6   Type            7723 non-null   object \n",
      " 7   Price(in $)     7723 non-null   float64\n",
      " 8   Content Rating  7723 non-null   object \n",
      " 9   Genres          7723 non-null   object \n",
      "dtypes: float64(2), int32(1), int64(2), object(5)\n",
      "memory usage: 633.5+ KB\n"
     ]
    }
   ],
   "source": [
    "df.info()#cleaning 결과 확인"
   ]
  },
  {
   "cell_type": "code",
   "execution_count": 19,
   "metadata": {},
   "outputs": [
    {
     "data": {
      "text/html": [
       "<div>\n",
       "<style scoped>\n",
       "    .dataframe tbody tr th:only-of-type {\n",
       "        vertical-align: middle;\n",
       "    }\n",
       "\n",
       "    .dataframe tbody tr th {\n",
       "        vertical-align: top;\n",
       "    }\n",
       "\n",
       "    .dataframe thead th {\n",
       "        text-align: right;\n",
       "    }\n",
       "</style>\n",
       "<table border=\"1\" class=\"dataframe\">\n",
       "  <thead>\n",
       "    <tr style=\"text-align: right;\">\n",
       "      <th></th>\n",
       "      <th>App</th>\n",
       "      <th>Category</th>\n",
       "      <th>Rating</th>\n",
       "      <th>Reviews</th>\n",
       "      <th>Size</th>\n",
       "      <th>Installs</th>\n",
       "      <th>Type</th>\n",
       "      <th>Price(in $)</th>\n",
       "      <th>Content Rating</th>\n",
       "      <th>Genres</th>\n",
       "    </tr>\n",
       "  </thead>\n",
       "  <tbody>\n",
       "    <tr>\n",
       "      <th>0</th>\n",
       "      <td>Photo Editor &amp; Candy Camera &amp; Grid &amp; ScrapBook</td>\n",
       "      <td>ART_AND_DESIGN</td>\n",
       "      <td>4.1</td>\n",
       "      <td>159</td>\n",
       "      <td>19000000</td>\n",
       "      <td>10000</td>\n",
       "      <td>Free</td>\n",
       "      <td>0.0</td>\n",
       "      <td>Everyone</td>\n",
       "      <td>Art &amp; Design</td>\n",
       "    </tr>\n",
       "    <tr>\n",
       "      <th>1</th>\n",
       "      <td>Coloring book moana</td>\n",
       "      <td>ART_AND_DESIGN</td>\n",
       "      <td>3.9</td>\n",
       "      <td>967</td>\n",
       "      <td>14000000</td>\n",
       "      <td>500000</td>\n",
       "      <td>Free</td>\n",
       "      <td>0.0</td>\n",
       "      <td>Everyone</td>\n",
       "      <td>Art &amp; Design;Pretend Play</td>\n",
       "    </tr>\n",
       "    <tr>\n",
       "      <th>2</th>\n",
       "      <td>U Launcher Lite – FREE Live Cool Themes, Hide ...</td>\n",
       "      <td>ART_AND_DESIGN</td>\n",
       "      <td>4.7</td>\n",
       "      <td>87510</td>\n",
       "      <td>8700000</td>\n",
       "      <td>5000000</td>\n",
       "      <td>Free</td>\n",
       "      <td>0.0</td>\n",
       "      <td>Everyone</td>\n",
       "      <td>Art &amp; Design</td>\n",
       "    </tr>\n",
       "    <tr>\n",
       "      <th>3</th>\n",
       "      <td>Sketch - Draw &amp; Paint</td>\n",
       "      <td>ART_AND_DESIGN</td>\n",
       "      <td>4.5</td>\n",
       "      <td>215644</td>\n",
       "      <td>25000000</td>\n",
       "      <td>50000000</td>\n",
       "      <td>Free</td>\n",
       "      <td>0.0</td>\n",
       "      <td>Teen</td>\n",
       "      <td>Art &amp; Design</td>\n",
       "    </tr>\n",
       "    <tr>\n",
       "      <th>4</th>\n",
       "      <td>Pixel Draw - Number Art Coloring Book</td>\n",
       "      <td>ART_AND_DESIGN</td>\n",
       "      <td>4.3</td>\n",
       "      <td>967</td>\n",
       "      <td>2800000</td>\n",
       "      <td>100000</td>\n",
       "      <td>Free</td>\n",
       "      <td>0.0</td>\n",
       "      <td>Everyone</td>\n",
       "      <td>Art &amp; Design;Creativity</td>\n",
       "    </tr>\n",
       "  </tbody>\n",
       "</table>\n",
       "</div>"
      ],
      "text/plain": [
       "                                                 App        Category  Rating  \\\n",
       "0     Photo Editor & Candy Camera & Grid & ScrapBook  ART_AND_DESIGN     4.1   \n",
       "1                                Coloring book moana  ART_AND_DESIGN     3.9   \n",
       "2  U Launcher Lite – FREE Live Cool Themes, Hide ...  ART_AND_DESIGN     4.7   \n",
       "3                              Sketch - Draw & Paint  ART_AND_DESIGN     4.5   \n",
       "4              Pixel Draw - Number Art Coloring Book  ART_AND_DESIGN     4.3   \n",
       "\n",
       "   Reviews      Size  Installs  Type  Price(in $) Content Rating  \\\n",
       "0      159  19000000     10000  Free          0.0       Everyone   \n",
       "1      967  14000000    500000  Free          0.0       Everyone   \n",
       "2    87510   8700000   5000000  Free          0.0       Everyone   \n",
       "3   215644  25000000  50000000  Free          0.0           Teen   \n",
       "4      967   2800000    100000  Free          0.0       Everyone   \n",
       "\n",
       "                      Genres  \n",
       "0               Art & Design  \n",
       "1  Art & Design;Pretend Play  \n",
       "2               Art & Design  \n",
       "3               Art & Design  \n",
       "4    Art & Design;Creativity  "
      ]
     },
     "execution_count": 19,
     "metadata": {},
     "output_type": "execute_result"
    }
   ],
   "source": [
    "df.head()"
   ]
  },
  {
   "cell_type": "markdown",
   "metadata": {},
   "source": [
    "## Visualization\n",
    "예측을 하기 전 데이터의 구조를 잘 알고 있어야되므로 새롭게 정리한 데이터셋을 그래프로 시각화해서 구조를 확인하는 과정이다. 또한 각 특징들간의 관계를 확인해서 예측에 사용될 특징들을 확인한다."
   ]
  },
  {
   "cell_type": "code",
   "execution_count": 20,
   "metadata": {},
   "outputs": [
    {
     "data": {
      "text/plain": [
       "Text(0.5,1,'TOTAL apps in each category')"
      ]
     },
     "execution_count": 20,
     "metadata": {},
     "output_type": "execute_result"
    },
    {
     "data": {
      "image/png": "[encoded data removed]",
      "text/plain": [
       "<Figure size 432x288 with 1 Axes>"
      ]
     },
     "metadata": {
      "needs_background": "light"
     },
     "output_type": "display_data"
    }
   ],
   "source": [
    "#앱의 카테고리의 종류와 각 종류에 부합하는 앱의 개수를 시각화\n",
    "category_plot = sns.countplot(x=\"Category\",data=df, palette = \"spring\")\n",
    "category_plot.set_xticklabels(category_plot.get_xticklabels(), rotation=90, ha=\"right\")\n",
    "category_plot\n",
    "plt.title('TOTAL apps in each category',size = 20)"
   ]
  },
  {
   "cell_type": "markdown",
   "metadata": {},
   "source": [
    "Family,Game, Tools 카테고리에 속한 앱이 가장 많이 다운받아졌다."
   ]
  },
  {
   "cell_type": "code",
   "execution_count": 21,
   "metadata": {},
   "outputs": [
    {
     "data": {
      "text/plain": [
       "Text(0.5,1,'Content Rating distribution')"
      ]
     },
     "execution_count": 21,
     "metadata": {},
     "output_type": "execute_result"
    },
    {
     "data": {
      "image/png": "[encoded data removed]",
      "text/plain": [
       "<Figure size 432x288 with 1 Axes>"
      ]
     },
     "metadata": {
      "needs_background": "light"
     },
     "output_type": "display_data"
    }
   ],
   "source": [
    "#앱을 다운로드한 연령의 종류와 각 연령에 따른 다운로드 수 시각화\n",
    "content_plot = sns.countplot(x=\"Content Rating\",data=df, palette = \"pink\")\n",
    "content_plot.set_xticklabels(content_plot.get_xticklabels(), rotation=90, ha=\"right\")\n",
    "content_plot\n",
    "plt.title('Content Rating distribution',size = 20)"
   ]
  },
  {
   "cell_type": "markdown",
   "metadata": {},
   "source": [
    "모든 연령이 대상인 앱이 가장 많다."
   ]
  },
  {
   "cell_type": "code",
   "execution_count": 22,
   "metadata": {},
   "outputs": [
    {
     "data": {
      "text/plain": [
       "Text(0.5,1,'Number of Free Apps vs Paid Apps')"
      ]
     },
     "execution_count": 22,
     "metadata": {},
     "output_type": "execute_result"
    },
    {
     "data": {
      "image/png": "[encoded data removed]",
      "text/plain": [
       "<Figure size 432x288 with 1 Axes>"
      ]
     },
     "metadata": {
      "needs_background": "light"
     },
     "output_type": "display_data"
    }
   ],
   "source": [
    "#유료인 앱과 무료인 앱의 다운로드 수 비교\n",
    "type_plot = sns.countplot(x=\"Type\", data=df)\n",
    "type_plot.set_xticklabels(type_plot.get_xticklabels(), rotation=90, ha=\"right\")\n",
    "type_plot \n",
    "plt.title('Number of Free Apps vs Paid Apps',size = 20)"
   ]
  },
  {
   "cell_type": "markdown",
   "metadata": {},
   "source": [
    "무료인 앱의 다운로드 수가 훨씬 많다."
   ]
  },
  {
   "cell_type": "code",
   "execution_count": 23,
   "metadata": {},
   "outputs": [
    {
     "data": {
      "text/plain": [
       "Text(0.5,1,'Content Rating vs Price')"
      ]
     },
     "execution_count": 23,
     "metadata": {},
     "output_type": "execute_result"
    },
    {
     "data": {
      "image/png": "[encoded data removed]",
      "text/plain": [
       "<Figure size 432x288 with 1 Axes>"
      ]
     },
     "metadata": {
      "needs_background": "light"
     },
     "output_type": "display_data"
    }
   ],
   "source": [
    "#사용자의 연령에 따른 다운로드 앱의 가격을 시각화\n",
    "content_price = sns.stripplot(y=\"Content Rating\",x=\"Price(in $)\", data=df, palette = \"Set1\")\n",
    "content_price.set_xticklabels(content_price.get_xticklabels(), rotation=90, ha=\"right\")\n",
    "plt.title('Content Rating vs Price',size = 20)"
   ]
  },
  {
   "cell_type": "markdown",
   "metadata": {},
   "source": [
    "각 연령대 모두 가격이 낮은 어플을 많이 다운받은 경향이 있다."
   ]
  },
  {
   "cell_type": "code",
   "execution_count": 24,
   "metadata": {},
   "outputs": [
    {
     "data": {
      "text/html": [
       "<div>\n",
       "<style scoped>\n",
       "    .dataframe tbody tr th:only-of-type {\n",
       "        vertical-align: middle;\n",
       "    }\n",
       "\n",
       "    .dataframe tbody tr th {\n",
       "        vertical-align: top;\n",
       "    }\n",
       "\n",
       "    .dataframe thead th {\n",
       "        text-align: right;\n",
       "    }\n",
       "</style>\n",
       "<table border=\"1\" class=\"dataframe\">\n",
       "  <thead>\n",
       "    <tr style=\"text-align: right;\">\n",
       "      <th></th>\n",
       "      <th>Rating</th>\n",
       "      <th>Reviews</th>\n",
       "      <th>Size</th>\n",
       "      <th>Installs</th>\n",
       "      <th>Price(in $)</th>\n",
       "    </tr>\n",
       "  </thead>\n",
       "  <tbody>\n",
       "    <tr>\n",
       "      <th>Rating</th>\n",
       "      <td>1.000000</td>\n",
       "      <td>0.079819</td>\n",
       "      <td>0.083640</td>\n",
       "      <td>0.052693</td>\n",
       "      <td>-0.021320</td>\n",
       "    </tr>\n",
       "    <tr>\n",
       "      <th>Reviews</th>\n",
       "      <td>0.079819</td>\n",
       "      <td>1.000000</td>\n",
       "      <td>0.240382</td>\n",
       "      <td>0.626187</td>\n",
       "      <td>-0.010184</td>\n",
       "    </tr>\n",
       "    <tr>\n",
       "      <th>Size</th>\n",
       "      <td>0.083640</td>\n",
       "      <td>0.240382</td>\n",
       "      <td>1.000000</td>\n",
       "      <td>0.162707</td>\n",
       "      <td>-0.026272</td>\n",
       "    </tr>\n",
       "    <tr>\n",
       "      <th>Installs</th>\n",
       "      <td>0.052693</td>\n",
       "      <td>0.626187</td>\n",
       "      <td>0.162707</td>\n",
       "      <td>1.000000</td>\n",
       "      <td>-0.010852</td>\n",
       "    </tr>\n",
       "    <tr>\n",
       "      <th>Price(in $)</th>\n",
       "      <td>-0.021320</td>\n",
       "      <td>-0.010184</td>\n",
       "      <td>-0.026272</td>\n",
       "      <td>-0.010852</td>\n",
       "      <td>1.000000</td>\n",
       "    </tr>\n",
       "  </tbody>\n",
       "</table>\n",
       "</div>"
      ],
      "text/plain": [
       "               Rating   Reviews      Size  Installs  Price(in $)\n",
       "Rating       1.000000  0.079819  0.083640  0.052693    -0.021320\n",
       "Reviews      0.079819  1.000000  0.240382  0.626187    -0.010184\n",
       "Size         0.083640  0.240382  1.000000  0.162707    -0.026272\n",
       "Installs     0.052693  0.626187  0.162707  1.000000    -0.010852\n",
       "Price(in $) -0.021320 -0.010184 -0.026272 -0.010852     1.000000"
      ]
     },
     "metadata": {},
     "output_type": "display_data"
    },
    {
     "data": {
      "text/plain": [
       "Rating         1.000000\n",
       "Reviews        0.079819\n",
       "Size           0.083640\n",
       "Installs       0.052693\n",
       "Price(in $)   -0.021320\n",
       "Name: Rating, dtype: float64"
      ]
     },
     "metadata": {},
     "output_type": "display_data"
    }
   ],
   "source": [
    "#상관관계 확인\n",
    "corr = df.corr()\n",
    "display(corr)\n",
    "corrR = corr['Rating']\n",
    "display(corrR)"
   ]
  },
  {
   "cell_type": "code",
   "execution_count": 25,
   "metadata": {},
   "outputs": [
    {
     "data": {
      "text/plain": [
       "<matplotlib.axes._subplots.AxesSubplot at 0x1b02564d5c0>"
      ]
     },
     "execution_count": 25,
     "metadata": {},
     "output_type": "execute_result"
    },
    {
     "data": {
      "image/png": "[encoded data removed]",
      "text/plain": [
       "<Figure size 360x360 with 2 Axes>"
      ]
     },
     "metadata": {
      "needs_background": "light"
     },
     "output_type": "display_data"
    }
   ],
   "source": [
    "#상관관계를 heatmap을 이용해 그래프로 시각화\n",
    "plt.figure(figsize=(5,5))\n",
    "sns.heatmap(data = df.corr(), annot=True, \n",
    "fmt = '.3f', linewidths=.5, cmap='Blues')"
   ]
  },
  {
   "cell_type": "markdown",
   "metadata": {},
   "source": [
    "Reviews, Size, Installs는 앱의 평점인 Rating과 양의 상관관계를 갖지만 Price(앱의 가격)는 Rating과 음의 상관관계를 갖는다.\n",
    "이를 보아 리뷰수, 앱의 크기, 다운로드 수는 클수록 가격은 낮을 수록 평점이 높다는 것을 알 수 있다."
   ]
  },
  {
   "cell_type": "code",
   "execution_count": 26,
   "metadata": {},
   "outputs": [
    {
     "data": {
      "text/plain": [
       "<matplotlib.axes._subplots.AxesSubplot at 0x1b02583ee48>"
      ]
     },
     "execution_count": 26,
     "metadata": {},
     "output_type": "execute_result"
    },
    {
     "data": {
      "image/png": "[encoded data removed]",
      "text/plain": [
       "<Figure size 432x288 with 1 Axes>"
      ]
     },
     "metadata": {
      "needs_background": "light"
     },
     "output_type": "display_data"
    },
    {
     "data": {
      "image/png": "[encoded data removed]",
      "text/plain": [
       "<Figure size 432x288 with 1 Axes>"
      ]
     },
     "metadata": {
      "needs_background": "light"
     },
     "output_type": "display_data"
    },
    {
     "data": {
      "image/png": "[encoded data removed]",
      "text/plain": [
       "<Figure size 432x288 with 1 Axes>"
      ]
     },
     "metadata": {
      "needs_background": "light"
     },
     "output_type": "display_data"
    },
    {
     "data": {
      "image/png": "[encoded data removed]",
      "text/plain": [
       "<Figure size 432x288 with 1 Axes>"
      ]
     },
     "metadata": {
      "needs_background": "light"
     },
     "output_type": "display_data"
    }
   ],
   "source": [
    "#앱의 평점과 리뷰수, 크기, 다운로드수, 가격과의 관계를 산점도로 시각화\n",
    "df.plot.scatter(x='Rating', y='Reviews', c='red')\n",
    "df.plot.scatter(x='Rating', y='Size', c='green')\n",
    "df.plot.scatter(x='Rating', y='Installs', c='blue')\n",
    "df.plot.scatter(x='Rating', y='Price(in $)', c='black')"
   ]
  },
  {
   "cell_type": "markdown",
   "metadata": {},
   "source": [
    "## Predict"
   ]
  },
  {
   "cell_type": "code",
   "execution_count": 28,
   "metadata": {},
   "outputs": [],
   "source": [
    "#예측에 사용될 특징 지정\n",
    "features = ['Reviews', 'Size', 'Installs', 'Price(in $)']\n",
    "X = df[features]\n",
    "y = df['Rating'].values"
   ]
  },
  {
   "cell_type": "code",
   "execution_count": 29,
   "metadata": {},
   "outputs": [
    {
     "name": "stderr",
     "output_type": "stream",
     "text": [
      "c:\\users\\wlgh3\\venv\\tensorflow\\lib\\site-packages\\sklearn\\utils\\deprecation.py:77: DeprecationWarning: Function make_blobs is deprecated; Please import make_blobs directly from scikit-learn\n",
      "  warnings.warn(msg, category=DeprecationWarning)\n"
     ]
    }
   ],
   "source": [
    "import mglearn\n",
    "X, y = mglearn.datasets.make_forge()"
   ]
  },
  {
   "cell_type": "code",
   "execution_count": 30,
   "metadata": {},
   "outputs": [],
   "source": [
    "#데이터를 훈련용과 테스트용으로 나누기(75% : 25%)\n",
    "X_train, X_test, y_train, y_test = train_test_split(X, y, test_size = 0.25, random_state = 66)"
   ]
  },
  {
   "cell_type": "markdown",
   "metadata": {},
   "source": [
    "### 1) KNN"
   ]
  },
  {
   "cell_type": "code",
   "execution_count": 31,
   "metadata": {},
   "outputs": [
    {
     "name": "stdout",
     "output_type": "stream",
     "text": [
      "1-Train Accuracy : 1.0\n",
      "1-Test Accuracy : 0.8571428571428571\n"
     ]
    },
    {
     "data": {
      "text/plain": [
       "<matplotlib.legend.Legend at 0x1b026d7ca20>"
      ]
     },
     "execution_count": 31,
     "metadata": {},
     "output_type": "execute_result"
    },
    {
     "data": {
      "image/png": "[encoded data removed]",
      "text/plain": [
       "<Figure size 432x288 with 1 Axes>"
      ]
     },
     "metadata": {
      "needs_background": "light"
     },
     "output_type": "display_data"
    }
   ],
   "source": [
    "training_accuracy = []\n",
    "test_accuracy = []\n",
    "neighbors_settings = range(1, 15)#k를 1부터 14까지 바꿔가면서 확인\n",
    "for n_neighbors in neighbors_settings:\n",
    "    # 모델 생성\n",
    "    kn = KNeighborsClassifier(n_neighbors=n_neighbors)\n",
    "    kn.fit(X_train, y_train)\n",
    "    # 훈련 세트 정확도 저장\n",
    "    training_accuracy.append(kn.score(X_train, y_train))\n",
    "    # 일반화 정확도 저장\n",
    "    test_accuracy.append(kn.score(X_test, y_test))\n",
    "kn_train_ac=0\n",
    "kn_test_ac=0\n",
    "knn=0\n",
    "#k를 1~15로 바꾸었을 때, 가장 높은 정확도를 가졌을 때를 출력\n",
    "for i in range(0, 14):\n",
    "    if training_accuracy[i]>=kn_train_ac:\n",
    "        if test_accuracy[i]>kn_test_ac:\n",
    "            kn_train_ac=training_accuracy[i]\n",
    "            kn_test_ac=test_accuracy[i]\n",
    "            knn=i+1\n",
    "#결과 출력\n",
    "print(\"{}-Train Accuracy : {}\".format(knn, kn_train_ac))\n",
    "print(\"{}-Test Accuracy : {}\".format(knn, kn_test_ac))\n",
    "plt.plot(neighbors_settings, training_accuracy, label=\"train accuracy\")\n",
    "plt.plot(neighbors_settings, test_accuracy, label=\"test accuracy\")\n",
    "plt.ylabel(\"accuracy\")\n",
    "plt.xlabel(\"n_neighbors\")\n",
    "plt.legend()"
   ]
  },
  {
   "cell_type": "markdown",
   "metadata": {},
   "source": [
    "### 2) RandomForest"
   ]
  },
  {
   "cell_type": "code",
   "execution_count": 32,
   "metadata": {},
   "outputs": [
    {
     "name": "stdout",
     "output_type": "stream",
     "text": [
      "14-Train Accuracy : 0.8947368421052632\n",
      "14-Test Accuracy : 0.8571428571428571\n"
     ]
    },
    {
     "data": {
      "text/plain": [
       "<matplotlib.legend.Legend at 0x1b026e0a780>"
      ]
     },
     "execution_count": 32,
     "metadata": {},
     "output_type": "execute_result"
    },
    {
     "data": {
      "image/png": "[encoded data removed]",
      "text/plain": [
       "<Figure size 432x288 with 1 Axes>"
      ]
     },
     "metadata": {
      "needs_background": "light"
     },
     "output_type": "display_data"
    }
   ],
   "source": [
    "rf_training_accuracy = []\n",
    "rf_test_accuracy = []\n",
    "n_estimators = range(1, 15)#tree갯수를 1부터 15까지 바꿔가면서 확인\n",
    "for n in n_estimators:\n",
    "    rf = RandomForestClassifier(n_estimators=n, criterion='entropy', random_state=0)\n",
    "    rf.fit(X_train, y_train)\n",
    "    # 훈련 세트 정확도 저장\n",
    "    rf_training_accuracy.append(rf.score(X_train, y_train))\n",
    "    # 일반화 정확도 저장\n",
    "    rf_test_accuracy.append(rf.score(X_test, y_test))\n",
    "rf_train_ac=0\n",
    "rf_test_ac=0\n",
    "nj=0\n",
    "#tree 갯수를 1~15로 바꾸었을 때, 가장 높은 정확도를 가졌을 때를 출력\n",
    "for i in range(0, 14):\n",
    "    if rf_test_accuracy[i]>=rf_test_ac:\n",
    "        if rf_training_accuracy[i]>=rf_train_ac:\n",
    "            rf_train_ac=training_accuracy[i]\n",
    "            rf_test_ac=test_accuracy[i]\n",
    "            nj=i+1\n",
    "#결과 출력\n",
    "print(\"{}-Train Accuracy : {}\".format(nj, rf_train_ac))\n",
    "print(\"{}-Test Accuracy : {}\".format(nj, rf_test_ac))\n",
    "\n",
    "plt.plot(n_estimators, rf_training_accuracy, label=\"train accuracy\")\n",
    "plt.plot(n_estimators, rf_test_accuracy, label=\"test accuracy\")\n",
    "plt.ylabel(\"accuracy\")\n",
    "plt.xlabel(\"n_estimators\")\n",
    "plt.legend()"
   ]
  },
  {
   "cell_type": "markdown",
   "metadata": {},
   "source": [
    "### 3) SVM"
   ]
  },
  {
   "cell_type": "code",
   "execution_count": 33,
   "metadata": {},
   "outputs": [
    {
     "name": "stdout",
     "output_type": "stream",
     "text": [
      "Train Accuracy : 1.0\n",
      "Test Accuracy : 0.7142857142857143\n"
     ]
    },
    {
     "data": {
      "text/plain": [
       "[<matplotlib.lines.Line2D at 0x1b026e6a940>,\n",
       " <matplotlib.lines.Line2D at 0x1b026e6aa58>]"
      ]
     },
     "execution_count": 33,
     "metadata": {},
     "output_type": "execute_result"
    },
    {
     "data": {
      "image/png": "[encoded data removed]",
      "text/plain": [
       "<Figure size 432x288 with 1 Axes>"
      ]
     },
     "metadata": {},
     "output_type": "display_data"
    }
   ],
   "source": [
    "# 모델 생성\n",
    "svm_app = svm.SVC()\n",
    "svm_app.fit(X_train, y_train)\n",
    "trains=svm_app.score(X_train, y_train)\n",
    "tests=svm_app.score(X_test, y_test)\n",
    "\n",
    "#정확도 결과 출력\n",
    "print(\"Train Accuracy : {}\".format(trains))\n",
    "print(\"Test Accuracy : {}\".format(tests))\n",
    "mglearn.plots.plot_2d_separator(svm_app, X_train)\n",
    "mglearn.discrete_scatter(X_train[:, 0], X_train[:, 1], y_train)"
   ]
  },
  {
   "cell_type": "code",
   "execution_count": 34,
   "metadata": {},
   "outputs": [
    {
     "data": {
      "text/plain": [
       "Text(0.5,1,'Model Accracy')"
      ]
     },
     "execution_count": 34,
     "metadata": {},
     "output_type": "execute_result"
    },
    {
     "data": {
      "image/png": "[encoded data removed]",
      "text/plain": [
       "<Figure size 576x576 with 1 Axes>"
      ]
     },
     "metadata": {
      "needs_background": "light"
     },
     "output_type": "display_data"
    }
   ],
   "source": [
    "#KNN, RandomForest, SVM모델의 모든 정확도를 한 그래프에 표시\n",
    "model_accuracy = pd.Series(data=[kn_test_ac, rf_test_ac, tests], \n",
    "        index=['KNN\\n{}'.format(kn_test_ac),'RandomForest\\n{}'.format(rf_test_ac),'SVM\\n{}'.format(tests)])\n",
    "fig= plt.figure(figsize=(8,8))\n",
    "p = model_accuracy.sort_values().plot.barh(color=['skyblue','g','coral'])\n",
    "plt.title('Model Accracy')"
   ]
  },
  {
   "cell_type": "markdown",
   "metadata": {},
   "source": [
    "KNN과 RandomForest는 약 0.85로 같은 정확도가 나왔고 SVM모델은 0.71의 다른 두 모델보다는 낮는 정확도가 나왔다. 특히 KNN과 RandomForest는 둘 모두 K값(근접한 이웃)과 estimator(트리 개수)가 1일 때 정확도가 제일 높게 나왔다."
   ]
  },
  {
   "cell_type": "code",
   "execution_count": 36,
   "metadata": {},
   "outputs": [
    {
     "name": "stdout",
     "output_type": "stream",
     "text": [
      "Prediction\n",
      "----------\n",
      "0    4.1\n",
      "0    4.1\n",
      "1    3.9\n",
      "1    3.9\n",
      "0    4.1\n",
      "1    3.9\n",
      "0    4.1\n",
      "Name: Rating, dtype: float64\n",
      "\n",
      "Rating\n",
      "----------\n",
      "0    4.1\n",
      "0    4.1\n",
      "0    4.1\n",
      "1    3.9\n",
      "0    4.1\n",
      "1    3.9\n",
      "0    4.1\n",
      "Name: Rating, dtype: float64\n",
      "Prediction is success!\n"
     ]
    }
   ],
   "source": [
    "#정확도가 높았던 KNN과 RandomForest중 KNN으로 예측\n",
    "kn = KNeighborsClassifier(n_neighbors=1)#KNN중에서도 K의 값이 1일때 결과가 좋았으므로 n_neighbors를 1로 지정\n",
    "kn.fit(X_train, y_train)\n",
    "pred=kn.predict(X_test)#X_test에 대한 예측\n",
    "\n",
    "#예측값 출력\n",
    "print(\"Prediction\\n----------\\n{}\".format(df['Rating'][pred]))\n",
    "print(\"\\nRating\\n----------\\n{}\".format(df['Rating'][y_test]))\n",
    "\n",
    "#예측값과 실제값 비교\n",
    "if pred.all() == y_test.all():\n",
    "    print(\"Prediction is success!\")\n",
    "else:\n",
    "    print(\"Prediction is fail\")"
   ]
  },
  {
   "cell_type": "markdown",
   "metadata": {},
   "source": [
    "출처 : https://www.kaggle.com/lava18/google-play-store-apps"
   ]
  }
 ],
 "metadata": {
  "kernelspec": {
   "display_name": "Python 3",
   "language": "python",
   "name": "python3"
  },
  "language_info": {
   "codemirror_mode": {
    "name": "ipython",
    "version": 3
   },
   "file_extension": ".py",
   "mimetype": "text/x-python",
   "name": "python",
   "nbconvert_exporter": "python",
   "pygments_lexer": "ipython3",
   "version": "3.6.6"
  }
 },
 "nbformat": 4,
 "nbformat_minor": 2
}
