{
 "cells": [
  {
   "cell_type": "markdown",
   "metadata": {},
   "source": [
    "## DataMining7_scikitlearn과제"
   ]
  },
  {
   "cell_type": "markdown",
   "metadata": {},
   "source": [
    "### 1)각 예제의 데이터를 설명하세요(X, y 설명포함)  \n",
    "* (1)의 데이터는 입력은 0~10사이의 50개의 수이고 출력은 2*x-1을 새로운 50개의 수에 더한 50개의 랜덤값이다.  \n",
    "X :크기가 50인 벡터를 차원을 분해한 후 한 단계 추가한 값으로 50행x1열 크기의 2차원 행렬이다.  \n",
    "y : 0~1사이인 50개의 수에 각각 0~10사이 수를 두배 한 값에서 1을 빼서 더한 값이다.  \n",
    "* (2)의 데이터는 붓꽃(타겟값)의 종류에 따라 꽃받침 길이, 꽃받침 폭, 꽃잎 길이, 꽃잎 폭(속성)이 나와있는 150개의 데이터셋이다.  \n",
    "X : 4개의 속성이 150개씩 있는 배열이다.  \n",
    "y : 붓꽃의 종류인 setosa, versicolor, virginica의 배열이다.\n",
    "* (3)의 데이터셋은 (2)와 같다.  \n",
    "X : 4개 속성을 2개로 즉, 3차원이었던 데이터셋을 2차원으로 축소한 데이터이다.  \n",
    "y : 타겟값은 (2)와 같은 붓꽃의 종류이다.  \n",
    "* (4)의 데이터는 랜덤으로 생성된 200개의 분류용 샘플이다.  \n",
    "X : [200, 2]크기의 랜덤 데이터  \n",
    "y : [200]크기의 군집이 표시되어있는 데이터"
   ]
  },
  {
   "cell_type": "markdown",
   "metadata": {},
   "source": [
    "### 2)각 예제에서 모델링을 위해 사용된 머신러닝 알고리즘명을 쓰세요  \n",
    "Linear Regression  \n",
    "Gaussian naive bayes  \n",
    "PCA  \n",
    "K-Means"
   ]
  },
  {
   "cell_type": "markdown",
   "metadata": {},
   "source": [
    "### 3)Supervised learning의 학습데이터와 테스트데이터를 나누는 이유를 쓰세요.\n",
    "지도학습은 학습데이터로 학습시킨 모델로 테스트데이터를 예측하기 때문에 두 데이터가 같으면 안된다.\n",
    "학습된 모델에 학습데이터 예측시키면 이미 똑같은 데이터가 예측이 되어있기 때문에 결과는 정확하지만 다른 새로운 모델을 예측하고자 할 때 이 모델은 소용이 없다.\n",
    "따라서 데이터를 둘로 나누어 학습데이터로 학습된 모델을 테스트데이터로 예측하여 성능을 확인해봐야 모델의 정확도를 알 수 있다."
   ]
  },
  {
   "cell_type": "markdown",
   "metadata": {},
   "source": [
    "### 4)Supervised learning의 새로운 데이터에 대한 예측을 위해 사용된 함수는?  \n",
    "model.predict()"
   ]
  },
  {
   "cell_type": "code",
   "execution_count": null,
   "metadata": {},
   "outputs": [],
   "source": []
  }
 ],
 "metadata": {
  "kernelspec": {
   "display_name": "Python 3",
   "language": "python",
   "name": "python3"
  },
  "language_info": {
   "codemirror_mode": {
    "name": "ipython",
    "version": 3
   },
   "file_extension": ".py",
   "mimetype": "text/x-python",
   "name": "python",
   "nbconvert_exporter": "python",
   "pygments_lexer": "ipython3",
   "version": "3.6.6"
  }
 },
 "nbformat": 4,
 "nbformat_minor": 2
}
