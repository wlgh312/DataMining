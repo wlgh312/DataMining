{
 "cells": [
  {
   "cell_type": "markdown",
   "metadata": {},
   "source": [
    "# datamining 4. NumPy\n",
    "\n",
    "Numpy(Numerical Python, \n",
    "https://docs.scipy.org/doc/numpy-1.15.0/index.html )는 과학계산에 필요한 파이썬 라이브러리로 빠르고 효율적인 조작이 가능한 다차원 배열객체를 제공한다.  \n",
    "\n",
    "NumPy의 배열 ndarray는 파이썬의 배열 list보다 더 큰 배열을 관리하는 데 효율적인 저장과 데이터 작업을 제공한다.  \n",
    "\n",
    "* NumPy 배열(ndarray) 특징   \n",
    "  -고정크기 배열   \n",
    "  -NumPy 배열의 요소는 모두 동일한 데이터 유형   \n",
    "  -NumPy 배열은 큰 데이터를 저장하여 고급 처리 작업에 용이   \n",
    "  -많은 파이썬 기반의 과학 및 수학 패키지는 NumPy 배열을 사용   "
   ]
  },
  {
   "cell_type": "code",
   "execution_count": 1,
   "metadata": {},
   "outputs": [
    {
     "data": {
      "text/plain": [
       "'1.14.5'"
      ]
     },
     "execution_count": 1,
     "metadata": {},
     "output_type": "execute_result"
    }
   ],
   "source": [
    "#numpy package 가져오기 및 버젼확인\n",
    "import numpy as np\n",
    "np.__version__"
   ]
  },
  {
   "cell_type": "markdown",
   "metadata": {},
   "source": [
    "###  NumPy의 배열 클래스\n",
    "NumPy의 배열 클래스는 numpy.ndarray로 제공된다.  \n",
    "\n",
    "* numpy.ndarray 속성  \n",
    "ndarray.ndim  : 배열의 축수 (차원), the number of axes (dimensions)  \n",
    "ndarray.shape : 배열 크기(m,n), 행 크기 m, 열 크기 n  \n",
    "ndarray.size   : 배열의 요소의 총수 (m * n)\n",
    "ndarray.dtype : 배열 내의 요소의 형태(유형), numpy.int32, numpy.int16  \n",
    "ndarray.itemsize : 배열의 각 요소의 바이트 단위의 사이즈, \n",
    "                  float64의 itemsize는 8 (= 64 / 8)  "
   ]
  },
  {
   "cell_type": "code",
   "execution_count": 5,
   "metadata": {
    "scrolled": true
   },
   "outputs": [
    {
     "name": "stdout",
     "output_type": "stream",
     "text": [
      "**Arrays**\n",
      "a= [2 3 4]\n",
      "a.ndim= 1\n",
      "a.shape= (3,)\n",
      "a.itemsize= 4\n",
      "a.size= 3\n",
      "type(a)= <class 'numpy.ndarray'>\n",
      "b.ndim= 2\n",
      "b.shape= (2, 3)\n"
     ]
    }
   ],
   "source": [
    "# The Basics\n",
    "a= np.array([2,3,4])  # 1차원 배열 생성\n",
    "print(\"**Arrays**\")\n",
    "print(\"a=\", a)\n",
    "print(\"a.ndim=\", a.ndim)         #a배열의 차원, \n",
    "print(\"a.shape=\",a.shape)        #a배열의 각 차원의 크기, \n",
    "print(\"a.itemsize=\", a.itemsize) #배열요소의  크기\n",
    "print(\"a.size=\", a.size)         #배열 요소의 개수\n",
    "print(\"type(a)=\",type(a)) \n",
    "\n",
    "b = np.array([[1,2,3], [5,6,7]])  # 2차원 배열 생성\n",
    "print(\"b.ndim=\", b.ndim)\n",
    "print(\"b.shape=\",b.shape)"
   ]
  },
  {
   "cell_type": "code",
   "execution_count": 3,
   "metadata": {},
   "outputs": [
    {
     "name": "stdout",
     "output_type": "stream",
     "text": [
      "**Array creation**\n",
      "a1= [20 30 40]\n",
      "a2= [[10 20 30]\n",
      " [50 60 70]]\n",
      "f1 =  [0.  0.4 0.8 1.2 1.6]\n",
      "f2 =  [0.  0.4 0.8 1.2 1.6 2. ]\n",
      "zeros= [[0. 0.]\n",
      " [0. 0.]]\n",
      "ones= [[1. 1.]]\n",
      "full= [[7 7]\n",
      " [7 7]]\n",
      "eye= [[1. 0.]\n",
      " [0. 1.]]\n",
      "random1= [0 0 1 1 1 1 0 1 1 0]\n",
      "random2= [[8 6 5]\n",
      " [4 5 0]]\n",
      "random3= [[1 4 4]\n",
      " [1 2 3]\n",
      " [6 5 2]\n",
      " [2 4 5]\n",
      " [5 4 2]]\n"
     ]
    }
   ],
   "source": [
    "#Array creation, 배열 만들기\n",
    "print(\"**Array creation**\")\n",
    "a1= np.array([20,30,40])  # 1차원 배열 생성\n",
    "a2 = np.array([[10,20,30], [50,60,70]])  # 2차원 배열 생성\n",
    "f1 = np.arange(0, 2, 0.4) #0~2 범위내 0.4 간격으로 실수값 배열 생성\n",
    "f2 = np.linspace( 0, 2, 6 )  # 0~2 범위내 6개 배열 생성\n",
    "z = np.zeros((2,2))  # 모든 값이 0인 배열 생성\n",
    "o = np.ones((1,2))   # 모든 값이 1인 배열 생성\n",
    "c = np.full((2,2), 7) # 모든 값이 특정 상수인 배열 생성\n",
    "e = np.eye(2)        # 2x2 단위행렬 생성\n",
    "r1 = np.random.randint(2, size=10)  #0~1, 10개 정수난수\n",
    "r2 = np.random.randint(10, size=(2, 3)) #0~9, 2X3 array\n",
    "r3 = np.random.randint(1, 7, size=(5, 3)) #1~6, 5X3 array\n",
    "\n",
    "print(\"a1=\",a1)\n",
    "print(\"a2=\",a2)\n",
    "print(\"f1 = \", f1)\n",
    "print(\"f2 = \", f2)\n",
    "print(\"zeros=\",z)\n",
    "print(\"ones=\",o)\n",
    "print(\"full=\",c)\n",
    "print(\"eye=\",e)\n",
    "print(\"random1=\",r1)\n",
    "print(\"random2=\",r2)\n",
    "print(\"random3=\",r3)"
   ]
  },
  {
   "cell_type": "markdown",
   "metadata": {},
   "source": [
    "### NumPy 표준 데이터 형식\n",
    "numpy.dtype 클래스로 데이터 형식 객체 제공"
   ]
  },
  {
   "cell_type": "code",
   "execution_count": 3,
   "metadata": {},
   "outputs": [
    {
     "name": "stdout",
     "output_type": "stream",
     "text": [
      "[0 0 0 0 0 0 0 0 0 0]\n",
      "[0. 0. 0. 0. 0. 0. 0. 0. 0. 0.]\n",
      "[False False False False False False False False False False]\n"
     ]
    }
   ],
   "source": [
    "#numpy.dtype 예\n",
    "a = np.zeros(10, dtype='int_')\n",
    "b = np.zeros(10, dtype='float_')\n",
    "c = np.zeros(10, dtype='bool_')\n",
    "print(a)\n",
    "print(b)\n",
    "print(c)"
   ]
  },
  {
   "cell_type": "markdown",
   "metadata": {},
   "source": [
    "### Random sampling\n",
    "\n",
    "numpy.random 서브패키지를 통해 난수를 발생\n",
    "\n",
    "rand(d0,d1, ..,dn):  0 ~ 1사이의 균일 분포(uniform distribution) 난수생성  \n",
    "randn(d0,d1, ..,dn): 평균0, 표준편차1인 표준 정규 분포(standard normal distribution)    \n",
    "normal(mean, std, d) : 평균 mean, 표준편차 strd인 정규분포 (normal distribution)   \n",
    "randint(low, high=None, size=None): low (inclusive) to high (exclusive). 정수 난수 size 개 생성 "
   ]
  },
  {
   "cell_type": "code",
   "execution_count": 22,
   "metadata": {},
   "outputs": [
    {
     "data": {
      "text/plain": [
       "array([0.21264841, 0.1998449 , 0.12756206])"
      ]
     },
     "execution_count": 22,
     "metadata": {},
     "output_type": "execute_result"
    }
   ],
   "source": [
    "np.random.rand(3)     #0~1사이 난수를 3개를 1차원 배열에 생성하여 반환"
   ]
  },
  {
   "cell_type": "code",
   "execution_count": 23,
   "metadata": {
    "scrolled": true
   },
   "outputs": [
    {
     "data": {
      "text/plain": [
       "array([[0.85095137, 0.59119408],\n",
       "       [0.4000095 , 0.71670754],\n",
       "       [0.77515444, 0.45663789]])"
      ]
     },
     "execution_count": 23,
     "metadata": {},
     "output_type": "execute_result"
    }
   ],
   "source": [
    "np.random.rand(3,2)     #0~1사이 난수를 3X2 배열에 생성하여 반환"
   ]
  },
  {
   "cell_type": "code",
   "execution_count": 24,
   "metadata": {
    "scrolled": true
   },
   "outputs": [
    {
     "data": {
      "text/plain": [
       "-2.2319661497141015"
      ]
     },
     "execution_count": 24,
     "metadata": {},
     "output_type": "execute_result"
    }
   ],
   "source": [
    "np.random.randn()       #평균0, 표준편차1인 표준정규분포 난수 1개 발생"
   ]
  },
  {
   "cell_type": "code",
   "execution_count": 25,
   "metadata": {
    "scrolled": true
   },
   "outputs": [
    {
     "data": {
      "text/plain": [
       "array([ 0.85462729, -0.87393037, -0.46179613, -1.7063945 ,  0.68692294])"
      ]
     },
     "execution_count": 25,
     "metadata": {},
     "output_type": "execute_result"
    }
   ],
   "source": [
    "np.random.randn(5)       #평균0, 표준편차1인 표준정규분포 난수 5개 발생"
   ]
  },
  {
   "cell_type": "code",
   "execution_count": 26,
   "metadata": {
    "scrolled": true
   },
   "outputs": [
    {
     "data": {
      "text/plain": [
       "array([[-1.25068198, -0.2655829 ,  1.16732182,  1.65217772],\n",
       "       [ 0.29722394, -1.40135486, -0.73887499,  0.23767817]])"
      ]
     },
     "execution_count": 26,
     "metadata": {},
     "output_type": "execute_result"
    }
   ],
   "source": [
    "np.random.randn(2, 4)   #평균0, 표준편차1인 표준정규분포 난수 2x4 개 발생"
   ]
  },
  {
   "cell_type": "code",
   "execution_count": 45,
   "metadata": {},
   "outputs": [
    {
     "name": "stdout",
     "output_type": "stream",
     "text": [
      "[16.59723704 16.21240692  8.41744936 15.82288854  7.02571991  5.65832958\n",
      "  8.38909924 20.27919934  5.3014978  15.21215778]\n"
     ]
    }
   ],
   "source": [
    "mean = 10 \n",
    "std = 5\n",
    "r = np.random.normal(mean, std, 10) #평균 mean, 표준편차 strd인 정규분포 \n",
    "print(r)"
   ]
  },
  {
   "cell_type": "code",
   "execution_count": 46,
   "metadata": {
    "scrolled": true
   },
   "outputs": [
    {
     "data": {
      "text/plain": [
       "array([2, 2, 1, 0, 2, 0, 2, 0, 2, 2])"
      ]
     },
     "execution_count": 46,
     "metadata": {},
     "output_type": "execute_result"
    }
   ],
   "source": [
    "np.random.randint(3, size=10)  #0~2, 10개 정수난수"
   ]
  },
  {
   "cell_type": "code",
   "execution_count": 47,
   "metadata": {
    "scrolled": true
   },
   "outputs": [
    {
     "data": {
      "text/plain": [
       "array([4, 2, 5, 1, 4, 8, 9, 8, 7, 7])"
      ]
     },
     "execution_count": 47,
     "metadata": {},
     "output_type": "execute_result"
    }
   ],
   "source": [
    "np.random.randint(1,10, size=10)#1~9, 10개 정수 난수"
   ]
  },
  {
   "cell_type": "code",
   "execution_count": 48,
   "metadata": {},
   "outputs": [
    {
     "name": "stdout",
     "output_type": "stream",
     "text": [
      "[[0 2]\n",
      " [3 9]\n",
      " [9 0]]\n",
      "[[0 2]\n",
      " [9 0]\n",
      " [3 9]]\n"
     ]
    }
   ],
   "source": [
    "r = np.random.randint(10, size=(3, 2)) #0~9, 3X2 array\n",
    "print(r)\n",
    "\n",
    "#데이터의 순서 바꾸기\n",
    "np.random.shuffle(r)\n",
    "print(r)"
   ]
  },
  {
   "cell_type": "code",
   "execution_count": 50,
   "metadata": {},
   "outputs": [
    {
     "data": {
      "image/png": "[encoded data removed]",
      "text/plain": [
       "<Figure size 432x288 with 1 Axes>"
      ]
     },
     "metadata": {
      "needs_background": "light"
     },
     "output_type": "display_data"
    },
    {
     "data": {
      "image/png": "[encoded data removed]",
      "text/plain": [
       "<Figure size 432x288 with 1 Axes>"
      ]
     },
     "metadata": {
      "needs_background": "light"
     },
     "output_type": "display_data"
    },
    {
     "data": {
      "image/png": "[encoded data removed]",
      "text/plain": [
       "<Figure size 432x288 with 1 Axes>"
      ]
     },
     "metadata": {
      "needs_background": "light"
     },
     "output_type": "display_data"
    }
   ],
   "source": [
    "#그래프로 랜덤값 분포 확인\n",
    "import matplotlib.pyplot as plt\n",
    "\n",
    "r1 = np.random.rand(100)     #0~1사이 균일분포\n",
    "plt.hist(r1)  # 히스토그램, 데이터 분포 확인\n",
    "plt.show()\n",
    "\n",
    "r2 = np.random.randn(100)  #평균0, 표준편차1인 표준정규분포 (가우시안 분포)\n",
    "plt.hist(r2)\n",
    "plt.show()\n",
    "\n",
    "#평균, 표준편차를 알고 있는 정규 분포에서 표본 추출 \n",
    "mean = 160 \n",
    "std = 40\n",
    "r3 = np.random.normal(mean, std, 100) #평균 mean, 표준편차 strd인 정규분포 \n",
    "plt.hist(r3)\n",
    "plt.show()"
   ]
  },
  {
   "cell_type": "markdown",
   "metadata": {},
   "source": [
    "### NumPy 배열 조작\n",
    "NumPy 배열 조작에는 데이터 및 하위 배열에 접근하고 배열을 분할, 재구성 및 결합하는 연산들을 포함한다.  \n",
    "* 기본 배열 조작      \n",
    "배열 속성(Attributes) :배열 크기, 배열 차원, 배열 모양, 배열의 데이터 타입  \n",
    "배열연산(Operation) : 배열의 요소를 이용한 계산식 또는 함수  \n",
    "배열의 인덱싱(Indexing) : 배열 요소에 값을 설정하거나 얻기 위한 위치를 접근하는 인덱싱  \n",
    "배열의 슬라이싱(Slicing): 큰 배열안의 서브배열에 접근하여 값을 설정하거나 얻기 위한 인덱싱  \n",
    "배열 형태 변경(Reshaping) : 배열의 차원이나 형태 변경  \n",
    "배열을 결합(Joining)하거나 분리(Splitting) : 여러 배열을 하나로 결합하거나 하나의 배열을 여러 개로 분리  "
   ]
  },
  {
   "cell_type": "code",
   "execution_count": 56,
   "metadata": {
    "scrolled": true
   },
   "outputs": [
    {
     "name": "stdout",
     "output_type": "stream",
     "text": [
      "**Array operation**\n",
      "a =  [0 1 2 3 4]\n",
      "b =  [5 6 7 8 9]\n",
      "a + 2 =  [2 3 4 5 6]\n",
      "a ** 2 =  [ 0  1  4  9 16]\n",
      "a < 2 =  [ True  True False False False]\n",
      "a + b =  [ 5  7  9 11 13]\n",
      "max(a) =  4\n",
      "sum(a) =  10\n",
      "a.sum() =  10\n",
      "b.mean() =  7.0\n",
      "b.std() =  1.4142135623730951\n"
     ]
    }
   ],
   "source": [
    "#1차원 배열 연산\n",
    "print(\"**Array operation**\")\n",
    "a = np.arange(5) \n",
    "b= np.array([5,6,7,8,9])\n",
    "print(\"a = \", a)\n",
    "print(\"b = \", b)\n",
    "print(\"a + 2 = \", a + 2)       #배열 요소에 2를 더한 결과\n",
    "print(\"a ** 2 = \", a ** 2)     #배열요소를 제곱한 결과\n",
    "print(\"a < 2 = \", a < 2)       #배열요소가 2보다 작으면 True, 아니면 False\n",
    "print(\"a + b = \", a + b)      #a배열 요소와 b 배열요소의 합\n",
    "print(\"max(a) = \", max(a))    #a배열 요소의 최대값 구하는 함수호출\n",
    "print(\"sum(a) = \", sum(a))    #a배열요소의 합의 구하는 함수 호출\n",
    "print(\"a.sum() = \", a.sum())  #a배열요소의 합을 구하는 함수호출\n",
    "print(\"b.mean() = \", b.mean())  #b배열요소의 평균을 구하는 함수호출\n",
    "print(\"b.std() = \", b.std())  #b배열요소의 표준편차을 구하는 함수호출"
   ]
  },
  {
   "cell_type": "code",
   "execution_count": 58,
   "metadata": {},
   "outputs": [
    {
     "name": "stdout",
     "output_type": "stream",
     "text": [
      "**Array Indexing, Slicing**\n",
      "a =  [0 1 2 3 4]\n",
      "a[0] =  0\n",
      "a[2:4] =  [2 3]\n",
      "a[:2] =  [0 1]\n",
      "a[-1] =  4\n",
      "a[1:4:2] =  [1 3]\n",
      "** index arrays**\n",
      "type(a)= <class 'numpy.ndarray'>\n",
      "i =  [1, 3, 4]\n",
      "a[i] =  [1 3 4]\n",
      "** mask index arrays**\n",
      "f =  [True, False, True, True, False]\n",
      "a[f] =  [0 2 3]\n",
      "** Assigning values **\n",
      "a =  [100  -2  -2   3   4]\n"
     ]
    }
   ],
   "source": [
    "#Indexing, Slicing \n",
    "print(\"**Array Indexing, Slicing**\")\n",
    "a= np.arange(5)\n",
    "print(\"a = \", a)\n",
    "print(\"a[0] = \", a[0]) \n",
    "a1 = a[2:4]                #2~(4-1)\n",
    "print(\"a[2:4] = \", a1)\n",
    "a2 = a[:2]                #~(2-1)\n",
    "print(\"a[:2] = \", a2)\n",
    "a3 = a[-1]                #reverse  index,   ... -2 -1\n",
    "print(\"a[-1] = \", a3)\n",
    "a4 = a[1:4:2]             #1에서 (4-1)까지 step 2\n",
    "print(\"a[1:4:2] = \", a4)\n",
    "\n",
    "# numpy.ndarray :  index arrays, Fancy indexing\n",
    "print(\"** index arrays**\")\n",
    "i = [1,3,4]\n",
    "print(\"type(a)=\",type(a))  #numpy.ndarray\n",
    "print(\"i = \", i)\n",
    "print(\"a[i] = \", a[i])   \n",
    "\n",
    "# Boolean or “mask” index arrays¶\n",
    "print(\"** mask index arrays**\")\n",
    "f = [True, False, True, True,False]\n",
    "print(\"f = \", f)\n",
    "print(\"a[f] = \", a[f])   #참인 인덱스값만 추출\n",
    "\n",
    "#Assigning values\n",
    "print(\"** Assigning values **\")\n",
    "a[0]=100\n",
    "a[1:3] = -2            #1~(3-1)인덱스에 해당하는 요소에 -2 대입\n",
    "print(\"a = \", a)"
   ]
  },
  {
   "cell_type": "markdown",
   "metadata": {},
   "source": [
    "### 실습문제 #1.  1차원 배열 생성, indexing, slicing, assign, operation 연습"
   ]
  },
  {
   "cell_type": "code",
   "execution_count": null,
   "metadata": {},
   "outputs": [],
   "source": [
    "#(1)1~25 사이의 2의 배수 12개로 1차원 배열(a) 생성, 출력\n",
    "\n",
    "#(2)a 의 인덱스 2~5의 요소값을 -20으로 수정, 출력 \n",
    "\n",
    "#(3)a의 끝에서 두번째부터 끝가지 요소값을 2배하여 저장, 출력 \n",
    "\n",
    "#(4)1~9사이 임의값 12개로  배열 b 생성, 출력\n",
    "\n",
    "#(5)b 배열을 10배하여 c에 저장\n",
    "\n",
    "#(6)a배열과 b배열을 더하여 d 배열 생성\n",
    "\n",
    "#(7)b 배열의 최대,최소,평균 출력\n",
    "\n",
    "#(8)a에서 b 배열의 평균보다 큰값을 추출 "
   ]
  },
  {
   "cell_type": "markdown",
   "metadata": {},
   "source": [
    "### 2차원 배열 "
   ]
  },
  {
   "cell_type": "code",
   "execution_count": 59,
   "metadata": {
    "scrolled": true
   },
   "outputs": [
    {
     "name": "stdout",
     "output_type": "stream",
     "text": [
      "m1 =  [[1 2]\n",
      " [1 0]]\n",
      "m2 =  [[1 2]\n",
      " [3 2]]\n",
      "m1.sum(axis=0) =  [2 2]\n",
      "m1.sum(axis=1) =  [3 1]\n",
      "m1 + m2= [[2 4]\n",
      " [4 2]]\n",
      "m1 * m2= [[1 4]\n",
      " [3 0]]\n",
      "m1 @ m2= [[7 6]\n",
      " [1 2]]\n",
      "m1.dot(m2)= [[7 6]\n",
      " [1 2]]\n",
      "m1 < 2 =  [[ True False]\n",
      " [ True  True]]\n"
     ]
    }
   ],
   "source": [
    "#2차원 행렬 생성, 연산\n",
    "m1=np.array([[1,2], [1,0]])\n",
    "m2=np.array([[1,2], [3,2]])\n",
    "print(\"m1 = \", m1)\n",
    "print(\"m2 = \", m2)\n",
    "print(\"m1.sum(axis=0) = \", m1.sum(axis=0))  #열의 합\n",
    "print(\"m1.sum(axis=1) = \", m1.sum(axis=1))  #행의 합\n",
    "print(\"m1 + m2=\", m1 + m2)\n",
    "print(\"m1 * m2=\", m1 * m2)   #배열요소곱\n",
    "print(\"m1 @ m2=\", m1 @ m2)  # 행렬곱\n",
    "print(\"m1.dot(m2)=\",m1.dot(m2))  # 행렬내적\n",
    "print(\"m1 < 2 = \", m1 < 2)"
   ]
  },
  {
   "cell_type": "code",
   "execution_count": 60,
   "metadata": {
    "scrolled": false
   },
   "outputs": [
    {
     "name": "stdout",
     "output_type": "stream",
     "text": [
      "** 2차원 Indexing, Slicing , index arrays **\n",
      "a2 =  [[ 1  2  3  4]\n",
      " [10 20 30 40]\n",
      " [ 6  7  8  9]]\n",
      "a2[1,2] =  30\n",
      "a2[:, 1] =  [ 2 20  7]\n",
      "a2[1:3, 2:4] =  [[30 40]\n",
      " [ 8  9]]\n",
      "a2[1:2, :] =  [[10 20 30 40]]\n",
      "a2[-1] =  [6 7 8 9]\n",
      "a2[1, :] =  [10 20 30 40]\n",
      "a2[1, ...] =  [10 20 30 40]\n",
      "m=  [[ True  True  True  True]\n",
      " [False False False False]\n",
      " [ True  True  True  True]]\n",
      "a2[m] =  [1 2 3 4 6 7 8 9]\n",
      "** 2차원 iterator **\n",
      "[1 2 3 4]\n",
      "[10 20 30 40]\n",
      "[6 7 8 9]\n",
      "** 1차원 변경 iterator **\n",
      "1 2 3 4 10 20 30 40 6 7 8 9 "
     ]
    }
   ],
   "source": [
    "#2차원 배열, Indexing, Slicing , index arrays\n",
    "print(\"** 2차원 Indexing, Slicing , index arrays **\")\n",
    "a2 =  np.array([[1,2,3,4], [10,20,30,40], [6,7,8,9]])\n",
    "print(\"a2 = \", a2)\n",
    "print(\"a2[1,2] = \", a2[1,2])          #1행, 2열\n",
    "print(\"a2[:, 1] = \", a2[:,1])         #1열의 모든행 \n",
    "print(\"a2[1:3, 2:4] = \", a2[1:3,2:4]) #1~(3-1)행, 2~(4-1)열\n",
    "print(\"a2[1:2, :] = \", a2[1:2,:])\n",
    "print(\"a2[-1] = \", a2[-1])            #마지막 행 \n",
    "print(\"a2[1, :] = \", a2[1,:])         #1행의 모든 열\n",
    "print(\"a2[1, ...] = \", a2[1,...])     #1행의 모든 열\n",
    "\n",
    "m = a2 < 10                   #조건에 맞는 mask 생성\n",
    "print(\"m= \", m)     \n",
    "print(\"a2[m] = \", a2[m])      #조건에 맞는 배열요소만 추출\n",
    "\n",
    "#iterator\n",
    "print(\"** 2차원 iterator **\")\n",
    "for r in a2:           #행단위 접근\n",
    "    print(r)\n",
    "\n",
    "#2차원을 1차원으로 변경\\\n",
    "print(\"** 1차원 변경 iterator **\")\n",
    "a1 =a2.ravel()\n",
    "for e in a1:      #1차원으로 접근\n",
    "    print(e, end=\" \")\n"
   ]
  },
  {
   "cell_type": "code",
   "execution_count": 7,
   "metadata": {},
   "outputs": [
    {
     "name": "stdout",
     "output_type": "stream",
     "text": [
      "a= [[0 3 0 1]\n",
      " [7 8 8 4]\n",
      " [9 0 0 4]]\n",
      "a.shape (3, 4)\n",
      "a.ravel()= [0 3 0 1 7 8 8 4 9 0 0 4]\n",
      "a.reshape(6,2) =  [[0 3]\n",
      " [0 1]\n",
      " [7 8]\n",
      " [8 4]\n",
      " [9 0]\n",
      " [0 4]]\n",
      "a.T =  [[0 7 9]\n",
      " [3 8 0]\n",
      " [0 8 0]\n",
      " [1 4 4]]\n",
      "a.a.T.shape =  (4, 3)\n",
      "None\n",
      "a.reshape(2,6) =  [[0 3 0 1 7 8]\n",
      " [8 4 9 0 0 4]]\n",
      "a.reshape(3,-1) =  [[0 3 0 1]\n",
      " [7 8 8 4]\n",
      " [9 0 0 4]]\n"
     ]
    }
   ],
   "source": [
    "#차원 변경, Shape Manipulation\n",
    "\n",
    "a = np.random.randint(10, size=(3,4)) # 3X4  배열에 random number (0~9)\n",
    "print(\"a=\", a)\n",
    "print(\"a.shape\", a.shape)\n",
    "b= a.ravel()               # 2차배열이 펼쳐진 1차배열로 반환\n",
    "print(\"a.ravel()=\", b)\n",
    "c=a.reshape(6,2)          # a의 형태가 6행 2열로 수정되어 반환\n",
    "print(\"a.reshape(6,2) = \", c)\n",
    "at = a.T                  # a의 전치행렬 반환 (행, 열이 교환된 행렬 )\n",
    "print(\"a.T = \", at)\n",
    "print(\"a.a.T.shape = \", a.T.shape)\n",
    "d= a.resize((2,6))       #a의 shape을 수정, 반환없음\n",
    "print(d)\n",
    "print(\"a.reshape(2,6) = \", a)\n",
    "e = a.reshape(3,-1)       #행크기 3에 맞추어 열크기 자동으로 변경\n",
    "print(\"a.reshape(3,-1) = \", e)\n",
    "    "
   ]
  },
  {
   "cell_type": "markdown",
   "metadata": {},
   "source": [
    "### 실습문제 #2.  2차원 배열 생성, reshape, resize, 연산 연습"
   ]
  },
  {
   "cell_type": "code",
   "execution_count": 10,
   "metadata": {},
   "outputs": [],
   "source": [
    "#(1)1~25 사이의 2의 배수 12개로 1차원 배열(a) 생성, 출력\n",
    "\n",
    "#(2)a를 이용하여  3X4 배열로 변경하여 b생성, 출력\n",
    "\n",
    "#(3)a를  2X6 배열로 변경, 출력\n",
    "\n",
    "#(4)a를  1행의 모든 값을  추출하여 a1을 만들고, a1의 모든 값을 0으로 변경, a1,a출력\n",
    "\n",
    "#(5)1~10 사이의 임의의 값으로 3X3 배열 x, y생성, 출력\n",
    "\n",
    "#(6)x의 1, 2 행의 모든 열추출, 출력\n",
    "\n",
    "#(7)x의 2열의 모든 행 추출, 출력\n",
    "\n",
    "#(8)x의 0,2열의 1,2 행 추출, 출력\n",
    "\n",
    "#(9)x의 각행의 합, 각 열의 합, 출력\n",
    "\n",
    "#(10)x의 각행의 최대, 각 열의 최대, 출력\n",
    "\n",
    "#(11)x와 y의 합 결과 출력\n",
    "\n",
    "#(12)X를 1차원으로 변경하여 x1 생성"
   ]
  },
  {
   "cell_type": "markdown",
   "metadata": {},
   "source": [
    "### 배열 복사"
   ]
  },
  {
   "cell_type": "code",
   "execution_count": 21,
   "metadata": {
    "scrolled": false
   },
   "outputs": [
    {
     "name": "stdout",
     "output_type": "stream",
     "text": [
      "a= [ 0  1  2  3  4  5  6  7  8  9 10 11]\n",
      "b= [ 0  1  2  3  4  5  6  7  8  9 10 11]\n",
      "b is a  True\n",
      "b.shape= (3, 4)\n",
      "a.shape= (3, 4)\n",
      "a= [[ 0  1  2  3]\n",
      " [ 4  5  6  7]\n",
      " [ 8  9 10 11]]\n",
      "b= [[ 0  1  2  3]\n",
      " [ 4  5  6  7]\n",
      " [ 8  9 10 11]]\n",
      "c= [[ 0  1  2  3]\n",
      " [ 4  5  6  7]\n",
      " [ 8  9 10 11]]\n",
      "c is a  False\n",
      "c.base is a  True\n",
      "c.shape= (2, 6)\n",
      "a.shape= (3, 4)\n",
      "c= [[   0    1    2    3 1234    5]\n",
      " [   6    7    8    9   10   11]]\n",
      "a= [[   0    1    2    3]\n",
      " [1234    5    6    7]\n",
      " [   8    9   10   11]]\n",
      "d= [[   0    1    2    3]\n",
      " [1234    5    6    7]\n",
      " [   8    9   10   11]]\n",
      "d is a  False\n",
      "d.base is a  False\n",
      "d= [[  99    1    2    3]\n",
      " [1234    5    6    7]\n",
      " [   8    9   10   11]]\n",
      "a= [[   0    1    2    3]\n",
      " [1234    5    6    7]\n",
      " [   8    9   10   11]]\n"
     ]
    }
   ],
   "source": [
    "#View , Shallow Copy\n",
    "a = np.arange(12)\n",
    "b = a            # b는 새로운 객체가 아닌 a를 참조\n",
    "print(\"a=\", a)\n",
    "print(\"b=\", b)\n",
    "print(\"b is a \", b is a)    # a and b are two names for the same ndarray object\n",
    "b.shape = 3,4    # changes the shape of a\n",
    "print(\"b.shape=\", b.shape)\n",
    "print(\"a.shape=\", a.shape)\n",
    "print(\"a=\", a)\n",
    "print(\"b=\", b)\n",
    "\n",
    "c = a.view()     #view : a와는 다른 객체이지만 데이터는 공유\n",
    "print(\"c=\", c)\n",
    "print(\"c is a \", c is a)\n",
    "print(\"c.base is a \", c.base is a)\n",
    "c.shape = 2,6                      # c의 shape만 수정, a의 shape은 변경 안됨\n",
    "c[0,4] = 1234                      # a의 데이터 변경\n",
    "print(\"c.shape=\", c.shape)\n",
    "print(\"a.shape=\", a.shape)\n",
    "print(\"c=\", c)\n",
    "print(\"a=\", a)\n",
    "\n",
    "#Deep Copy\n",
    "d = a.copy()     #copy : a와는 다른 객체로 데이터 복제\n",
    "print(\"d=\", d)\n",
    "print(\"d is a \", d is a)\n",
    "print(\"d.base is a \", d.base is a)\n",
    "d[0,0] = 99 \n",
    "print(\"d=\", d)\n",
    "print(\"a=\", a)"
   ]
  },
  {
   "cell_type": "markdown",
   "metadata": {},
   "source": [
    "### 배열 결합"
   ]
  },
  {
   "cell_type": "code",
   "execution_count": 38,
   "metadata": {},
   "outputs": [
    {
     "name": "stdout",
     "output_type": "stream",
     "text": [
      "x= [0 2 4 6 8]\n",
      "y= [0 1 2 3 4]\n",
      "m= [[0 2 4 6 8]\n",
      " [0 1 2 3 4]]\n",
      "xy= [0 2 4 6 8 0 1 2 3 4]\n"
     ]
    }
   ],
   "source": [
    "#Vector Stacking, 벡터 결합\n",
    "#vstack : 행으로 결합\n",
    "#hstack : 열로 결합\n",
    "\n",
    "\n",
    "x = np.arange(0,10,2)                     # 0~10, step2\n",
    "y = np.arange(5)                          # 0~4\n",
    "m = np.vstack([x,y])                      # x, y를 행으로 결합\n",
    "xy = np.hstack([x,y])                     # x, y를 열로 결합\n",
    "\n",
    "print(\"x=\", x)\n",
    "print(\"y=\", y)\n",
    "print(\"m=\", m)\n",
    "print(\"xy=\", xy)     "
   ]
  },
  {
   "cell_type": "markdown",
   "metadata": {},
   "source": [
    "### 실습문제 # 3. 배열복사, 결합 연습"
   ]
  },
  {
   "cell_type": "code",
   "execution_count": 9,
   "metadata": {},
   "outputs": [],
   "source": [
    "#(1) 1~3, 10~30, 100~300 3개의 1차원 배열(a1,a2,a3)을 생성하여 \n",
    "# 행으로 결합된 y배열 생성\n",
    "\n",
    "\n",
    "#(2) y배열의 0,2 열을 복사하여 y1, 1열을 복사하여 y2 생성\n",
    "\n",
    "\n",
    "#(3) y1, y2를 결합하여 yy배열 생성"
   ]
  },
  {
   "cell_type": "code",
   "execution_count": null,
   "metadata": {},
   "outputs": [],
   "source": []
  }
 ],
 "metadata": {
  "kernelspec": {
   "display_name": "Python 3",
   "language": "python",
   "name": "python3"
  },
  "language_info": {
   "codemirror_mode": {
    "name": "ipython",
    "version": 3
   },
   "file_extension": ".py",
   "mimetype": "text/x-python",
   "name": "python",
   "nbconvert_exporter": "python",
   "pygments_lexer": "ipython3",
   "version": "3.6.6"
  }
 },
 "nbformat": 4,
 "nbformat_minor": 2
}
